{
  "cells": [
    {
      "cell_type": "markdown",
      "metadata": {
        "id": "view-in-github",
        "colab_type": "text"
      },
      "source": [
        "<a href=\"https://colab.research.google.com/github/JoseEliasDuranRoa/Prediction-Models-for-Housing-Prices-in-Chennai/blob/main/ProblemSet1_Dur%C3%A1nRoa_Jos%C3%A9El%C3%ADas.ipynb\" target=\"_parent\"><img src=\"https://colab.research.google.com/assets/colab-badge.svg\" alt=\"Open In Colab\"/></a>"
      ]
    },
    {
      "cell_type": "markdown",
      "metadata": {
        "id": "VV3W-LfmuYKH"
      },
      "source": [
        "**Last Name:** Durán Roa\n",
        "\n",
        "\n",
        "**First Name:** José Elías\n",
        "\n",
        "\n",
        "\n",
        "---"
      ]
    },
    {
      "cell_type": "markdown",
      "metadata": {
        "id": "Nvmh06fkTI8E"
      },
      "source": [
        "# Problem 1: Prediction\n",
        "\n",
        "\n"
      ]
    },
    {
      "cell_type": "markdown",
      "metadata": {
        "id": "CRnKjifbpV8M"
      },
      "source": [
        "## a) Data Cleaning\n",
        "\n",
        "* Read the data; pay attention to use the right data type for each variable."
      ]
    },
    {
      "cell_type": "code",
      "source": [
        "#Connect drive\n",
        "from google.colab import drive\n",
        "drive.mount('/content/drive');"
      ],
      "metadata": {
        "id": "rdobOFwR6D9d",
        "colab": {
          "base_uri": "https://localhost:8080/"
        },
        "outputId": "67b15bd3-106a-4a14-d55d-d5ecef816176"
      },
      "execution_count": 5,
      "outputs": [
        {
          "output_type": "stream",
          "name": "stdout",
          "text": [
            "Mounted at /content/drive\n"
          ]
        }
      ]
    },
    {
      "cell_type": "code",
      "execution_count": 12,
      "metadata": {
        "id": "-szv296bqaHF"
      },
      "outputs": [],
      "source": [
        "#Import modules\n",
        "import zipfile, os\n",
        "import pandas as pd\n",
        "import numpy as np\n",
        "import seaborn as sns\n",
        "import plotly.express as px\n",
        "import plotly.graph_objects as go\n",
        "import matplotlib.pyplot as plt\n",
        "import seaborn as sns\n",
        "from scipy.stats import ks_2samp\n",
        "pd.__version__\n",
        "\n",
        "# Import the data\n",
        "zip_file_path = '/content/drive/My Drive/chennai.zip'\n",
        "housing = pd.read_csv(zipfile.ZipFile(zip_file_path).extract('Chennai_housing_sale_2.csv'), index_col = 0)\n",
        "\n",
        "#Correct data type\n",
        "housing['DATE_SALE'] = pd.to_datetime(housing['DATE_SALE'], dayfirst=True)\n",
        "housing['DATE_BUILD'] = pd.to_datetime(housing['DATE_BUILD'], dayfirst=True)\n",
        "housing['N_BEDROOM'] = housing['N_BEDROOM'].astype('Int64')\n",
        "housing['N_BATHROOM'] = housing['N_BATHROOM'].astype('Int64')"
      ]
    },
    {
      "cell_type": "markdown",
      "source": [
        "* At this point, we have successfully loaded data related to housing in Chennai, a major city in India, into memory. This data is organized in a DataFrame with 21 distinct variables, which include information about property characteristics, sale prices, construction dates, and various amenities associated with the houses."
      ],
      "metadata": {
        "id": "nluuY-GNRJpu"
      }
    },
    {
      "cell_type": "markdown",
      "source": [
        "* Now, we proceed to identify and correct typos in the categorical columns of the housing dataset. Next, we check for any missing values and print the columns that contain them.\n",
        "\n"
      ],
      "metadata": {
        "id": "FSuay3Ln5JB2"
      }
    },
    {
      "cell_type": "code",
      "source": [
        "# Identyfing AREA typos\n",
        "housing.AREA.value_counts()\n",
        "housing.BUILDTYPE.value_counts()\n",
        "housing.UTILITY_AVAIL.value_counts()\n",
        "housing.SALE_COND.value_counts()\n",
        "housing.PARK_FACIL.value_counts()\n",
        "housing.STREET.value_counts()\n",
        "\n",
        "#Fyxing Typos\n",
        "housing.AREA = housing.AREA.replace(\n",
        "    {\n",
        "        'Ana Nagar': 'Anna Nagar',\n",
        "        'Ann Nagar': 'Anna Nagar',\n",
        "        'Karapakkam': 'Karapakam',\n",
        "        'Chrompt': 'Chrompet',\n",
        "        'Chrmpet': 'Chrompet',\n",
        "        'Chormpet': 'Chrompet',\n",
        "        'KKNagar': 'KK Nagar',\n",
        "        'TNagar': 'T Nagar',\n",
        "        'Adyr': 'Adyar',\n",
        "        'Velchery': 'Velachery'\n",
        "    }\n",
        ")\n",
        "housing.BUILDTYPE = housing.BUILDTYPE.replace(\n",
        "    {'Comercial': 'Commercial', 'Other': 'Others'}\n",
        ")\n",
        "housing.UTILITY_AVAIL = housing.UTILITY_AVAIL.replace(\n",
        "    {'AllPub': 'All Pub', 'NoSewr': 'NoSeWa', 'NoSewr ': 'NoSeWa'}\n",
        ")\n",
        "housing.SALE_COND = housing.SALE_COND.replace(\n",
        "    {'Ab Normal': 'AbNormal', 'PartiaLl': 'Partial', 'Partiall': 'Partial', 'Adj Land': 'AdjLand'}\n",
        ")\n",
        "housing.PARK_FACIL = housing.PARK_FACIL.replace('Noo', 'No')\n",
        "housing.STREET = housing.STREET.replace(\n",
        "    {'Pavd': 'Paved', 'NoAccess': 'No Access'}\n",
        ")\n",
        "\n",
        "#Defining categorical variables\n",
        "categorical_vars = ['AREA', 'SALE_COND','PARK_FACIL','STREET','MZZONE','UTILITY_AVAIL','BUILDTYPE']\n",
        "for var in categorical_vars:\n",
        "   housing[var] = housing[var].astype('category')\n",
        "\n",
        "#Checking missing values\n",
        "missing_values = housing.isnull().sum()\n",
        "print(missing_values[missing_values > 0])"
      ],
      "metadata": {
        "collapsed": true,
        "id": "sFhQpqk2Ju6g",
        "colab": {
          "base_uri": "https://localhost:8080/"
        },
        "outputId": "9842dc8e-21e8-4738-dc6e-1d603674e8cc"
      },
      "execution_count": 7,
      "outputs": [
        {
          "output_type": "stream",
          "name": "stdout",
          "text": [
            "DIST_MAINROAD     8\n",
            "N_BEDROOM        12\n",
            "N_BATHROOM        1\n",
            "QS_OVERALL       46\n",
            "dtype: int64\n"
          ]
        }
      ]
    },
    {
      "cell_type": "markdown",
      "source": [
        "To address the issue of missing values, we have two main options: imputation or removing the rows containing missing data. In this case, the only variable with a significant number of missing values is QS_OVERALL. To evaluate whether removing these data points would bias our distribution, we proceed by comparing the distributions of the variable QS_OVERALL between the subset of data that contains missing values and the subset without missing values.\n"
      ],
      "metadata": {
        "id": "wmXV26bcBgCP"
      }
    },
    {
      "cell_type": "code",
      "source": [
        "# Subsets of data\n",
        "missing_subset = housing[housing.isnull().any(axis=1)]\n",
        "non_missing_subset = housing.dropna()\n",
        "\n",
        "# Compare the distribution of QS_OVERALL\n",
        "plt.figure(figsize=(10, 6))\n",
        "sns.kdeplot(non_missing_subset['QS_OVERALL'], label='Without missing values', shade=True)\n",
        "sns.kdeplot(missing_subset['QS_OVERALL'].dropna(), label='With missing values', shade=True)\n",
        "plt.legend()\n",
        "plt.title('Figure 1: Comparison of QS_OVERALL distribution')\n",
        "plt.xlabel('QS_OVERALL')\n",
        "plt.ylabel('Density')\n",
        "sns.despine()\n",
        "plt.show()"
      ],
      "metadata": {
        "id": "brFLl3psA9o6",
        "colab": {
          "base_uri": "https://localhost:8080/",
          "height": 703
        },
        "outputId": "f67b1a92-94c7-4d0a-f605-643bce78fcee"
      },
      "execution_count": 17,
      "outputs": [
        {
          "output_type": "stream",
          "name": "stderr",
          "text": [
            "<ipython-input-17-1978129a9eab>:7: FutureWarning:\n",
            "\n",
            "\n",
            "\n",
            "`shade` is now deprecated in favor of `fill`; setting `fill=True`.\n",
            "This will become an error in seaborn v0.14.0; please update your code.\n",
            "\n",
            "\n"
          ]
        },
        {
          "output_type": "display_data",
          "data": {
            "text/plain": [
              "<Figure size 1000x600 with 1 Axes>"
            ],
            "image/png": "[encoded data removed]"
          },
          "metadata": {}
        }
      ]
    },
    {
      "cell_type": "markdown",
      "source": [
        "To confirm the visual analysis, we use the Kolmogorov-Smirnov (KS) test to formally compare the distributions of QS_OVERALL between the two groups, supplementing the visual analysis. A lack of significant difference suggests that removing columns with missing values is unlikely to introduce bias.. Hence we proceed to eliminate missing values.\n"
      ],
      "metadata": {
        "id": "eYgIDzMyDlhD"
      }
    },
    {
      "cell_type": "code",
      "source": [
        "# Kolmogorov-Smirnov (KS) test\n",
        "ks_stat, p_value = ks_2samp(non_missing_subset['QS_OVERALL'], missing_subset['QS_OVERALL'].dropna())\n",
        "print(f'KS Statistic: {ks_stat}, p-value: {p_value}')"
      ],
      "metadata": {
        "id": "HO_4_VFdDm29",
        "colab": {
          "base_uri": "https://localhost:8080/"
        },
        "outputId": "cd075e04-2e19-48cd-9aa6-7ba8b389c3c6"
      },
      "execution_count": 9,
      "outputs": [
        {
          "output_type": "stream",
          "name": "stdout",
          "text": [
            "KS Statistic: 0.24892350557244175, p-value: 0.12547705802858974\n"
          ]
        }
      ]
    },
    {
      "cell_type": "code",
      "source": [
        "# Delete missing values\n",
        "housing = housing.dropna()"
      ],
      "metadata": {
        "id": "01paEhLwYFqs"
      },
      "execution_count": 10,
      "outputs": []
    },
    {
      "cell_type": "markdown",
      "source": [
        "* Finally, to incorporate the categorical variables into subsequent regressions, we use dummy encoding to generate a binary variable for each category. We do this as all the categorical variables are ordinal, thus using label enconding would be incorrect."
      ],
      "metadata": {
        "id": "Cg8QCQXybTXz"
      }
    },
    {
      "cell_type": "code",
      "source": [
        "housing2 = pd.get_dummies(housing);"
      ],
      "metadata": {
        "id": "ZgLshDOiQb9o"
      },
      "execution_count": null,
      "outputs": []
    },
    {
      "cell_type": "markdown",
      "source": [
        "### a.1) Brief Data Analysis"
      ],
      "metadata": {
        "id": "HgpVQXnRE_nw"
      }
    },
    {
      "cell_type": "markdown",
      "source": [
        "* The main purpose of this work is to predict housing prices using various predictors related to property characteristics and market conditions. As an initial excercise, we visualize the distribution of the target variable."
      ],
      "metadata": {
        "id": "6zJw-2wR19Qe"
      }
    },
    {
      "cell_type": "code",
      "source": [
        "# House prices distribution\n",
        "\n",
        "fig = px.histogram(\n",
        "    housing,\n",
        "    x='SALES_PRICE',\n",
        "    nbins=100,\n",
        "    title='<b>Distribution of Housing Prices',\n",
        "    labels={'SALES_PRICE': 'Housing Price'},\n",
        ")\n",
        "\n",
        "fig.update_layout(\n",
        "    title='<b> Figure 2: House Price Distribution in Chennai',\n",
        "    xaxis_title='House price (Millions)',\n",
        "    yaxis_title='Frequency',\n",
        "    plot_bgcolor='white',  # Fondo del área del gráfico\n",
        "    paper_bgcolor='white',  # Fondo de la figura\n",
        "    font_color='black',  # Color de la fuente\n",
        "    bargap=0.2\n",
        ")\n",
        "\n",
        "fig.show()"
      ],
      "metadata": {
        "colab": {
          "base_uri": "https://localhost:8080/",
          "height": 542
        },
        "id": "1RkgNxalTFdw",
        "outputId": "06593ab3-3a41-41f4-b4b5-0ad09d0a5c5f"
      },
      "execution_count": null,
      "outputs": [
        {
          "output_type": "display_data",
          "data": {
            "text/html": [
              "<html>\n",
              "<head><meta charset=\"utf-8\" /></head>\n",
              "<body>\n",
              "    <div>            <script src=\"https://cdnjs.cloudflare.com/ajax/libs/mathjax/2.7.5/MathJax.js?config=TeX-AMS-MML_SVG\"></script><script type=\"text/javascript\">if (window.MathJax && window.MathJax.Hub && window.MathJax.Hub.Config) {window.MathJax.Hub.Config({SVG: {font: \"STIX-Web\"}});}</script>                <script type=\"text/javascript\">window.PlotlyConfig = {MathJaxConfig: 'local'};</script>\n",
              "        <script charset=\"utf-8\" src=\"https://cdn.plot.ly/plotly-2.35.2.min.js\"></script>                <div id=\"8be9eb4c-baf0-499a-89df-be13d7d27970\" class=\"plotly-graph-div\" style=\"height:525px; width:100%;\"></div>            <script type=\"text/javascript\">                                    window.PLOTLYENV=window.PLOTLYENV || {};                                    if (document.getElementById(\"8be9eb4c-baf0-499a-89df-be13d7d27970\")) {                    Plotly.newPlot(                        \"8be9eb4c-baf0-499a-89df-be13d7d27970\",                        [{\"alignmentgroup\":\"True\",\"bingroup\":\"x\",\"hovertemplate\":\"Housing Price=%{x}\\u003cbr\\u003ecount=%{y}\\u003cextra\\u003e\\u003c\\u002fextra\\u003e\",\"legendgroup\":\"\",\"marker\":{\"color\":\"#636efa\",\"pattern\":{\"shape\":\"\"}},\"name\":\"\",\"nbinsx\":100,\"offsetgroup\":\"\",\"orientation\":\"v\",\"showlegend\":false,\"x\":[14049650,13743040,20180630,22633000,11320960,8588100,13709700,7700720,10199400,13308950,12310100,5859875,9955930,13328250,8020500,10093170,7393940,13759280,11031600,8788500,9330460,11154910,8805640,9550950,20551520,13840180,8990700,18192700,14819560,7924640,7356375,7499900,10671450,8105250,14407200,10727750,12798800,6686000,8553000,8286250,8030250,9718230,13009590,6444500,9446410,7793500,9689440,5251640,7952750,12782330,7693740,18815020,12009660,10436115,8109400,11354960,5737000,11239600,14000930,4704500,3013500,6377770,12364800,9386685,6155750,21330680,8196400,5716250,10243060,10122740,3854375,8165230,8913270,7910000,8931450,7142850,8936650,16935440,8678060,10152390,12171985,8133770,6877000,17669340,6873410,10066680,8391470,12197050,7492300,14637520,21844070,7400260,12560000,11440690,5619510,10120070,11085750,11165950,9346520,12171140,10668930,10029280,8953500,10309370,8100250,8254270,13581650,7151680,11536000,13265120,15472200,15388610,14283760,7047750,16834800,10436115,11596240,3404000,8553000,5437500,9347935,10974200,9154950,7913650,7335890,16474980,7725875,12496560,12863400,6519000,8585715,8561060,13186280,10373360,8809180,13060780,7194600,9594250,12341040,10309290,12809850,12575330,11517200,8863750,11554330,5643625,14822920,7060000,13282450,19147580,9151000,12046300,9098680,5976650,6936250,18402320,6946250,9758600,9089520,8528890,9766450,11825750,22124730,14529560,16495290,3990250,9222850,13296730,8195220,6709750,13785170,8428090,5943875,11698300,7979400,12063670,5798500,9314050,8027540,9173450,8968800,14155830,10116560,10161065,6553750,17363590,11095180,20542790,12046300,11920820,8901800,7887730,6918250,13941590,12363680,14837130,11061120,8750680,12754890,11014650,10478100,7037100,12499040,11719720,11466600,16569530,7881135,15013625,8072750,4575925,11526700,12357600,8788500,13883800,15997510,10009600,11646750,17363590,14228100,12866410,17105720,10829040,8269700,8857150,8346000,12120330,23307000,9207350,11557700,12904650,14057180,8989620,9680280,10794060,11104320,5131250,5374875,6999250,11096050,13642920,12996720,6452785,7356625,11167270,8920280,9641790,12569800,13718940,13852380,21329650,9311100,9831375,6206700,11778850,18428120,15247820,7468400,21050860,13030600,9656600,9507320,11361840,6590000,8543500,13896950,8892625,9953250,2939750,8133300,7311370,13402700,6715750,7670180,9075660,7913650,8645250,11474270,17934280,12251750,11351890,8480400,8779845,11638240,10422340,6916665,13831750,9852290,8488790,13896950,6847250,9935595,11045500,15913570,17314380,14229060,14449620,14135780,15472200,9882100,9002750,11365900,12925550,10148180,13630400,10779980,12285100,5290635,11415610,5849125,7377300,6705750,11165950,13296730,9038500,8745500,3602875,10646530,9160750,8974750,13197400,14030400,13840180,11866220,6544250,8275800,8249290,11790660,14153850,6944500,10696080,17961120,13215865,10589000,11444400,14121610,7137900,12458150,10599000,8702510,9871800,12415260,8799300,11207070,19959560,7629475,7087250,15387480,10454020,10432580,8507750,8878740,12235870,15074740,8310590,8144950,8981140,9121000,15013625,9241990,11360310,13099130,9965620,11157780,3854375,7700720,14691200,13085580,12677420,8482500,7880000,14218350,18073600,5281500,8899500,8020500,10337820,18642910,9248500,5332750,5710250,5649250,12150830,11645200,18531930,5624750,11680440,12151100,9947855,8782150,15494260,22078000,14179360,8956480,12752470,9189800,14400140,11904740,10090000,8060000,12123360,12046250,7603010,17105720,16569530,12412050,7742000,6677700,6435700,10961500,10163100,17357440,14392520,8261000,16527040,10437110,13087480,11779810,8316050,14459960,12359320,7427820,13261700,6037545,10283850,9426345,11365900,14156220,13554690,12709550,12492400,14105580,6818200,18939100,11813720,17060380,10940805,18111990,16377280,3936375,20519100,6577190,11681720,7707405,9991620,19761890,5668875,16805520,9089520,11760250,13404800,12520250,10191950,8882720,8131700,12905750,10366390,11029700,7586000,9625250,17603160,6889250,12900770,12801500,12123360,4982055,11853140,7881135,7451100,15599020,10737430,6686075,8052400,9198100,10096480,15524880,9758600,13391620,3815750,7877645,12754890,3844375,22084180,11854600,13937650,12894500,12827050,6561850,12087330,6224875,7399625,11727250,10768300,19888500,9378485,5523875,12476770,8572650,10281375,12156320,11790660,8209950,6846100,9092600,10410130,6717750,15326290,10001250,7321755,10599000,10884000,13205875,10160800,14104940,12591440,11207070,9985710,12560760,6081000,6633410,19074830,9872250,11552700,18531240,12341040,9708030,6074780,8836970,12980150,8563875,13385355,14804680,11243310,10514930,7512030,6182600,12364620,8761750,11889950,13991160,6714500,7071375,13363810,8156380,9079950,13021950,4886000,7733620,9888000,11991280,14088220,8111350,13158180,12198470,7751590,14159480,9231950,10676820,11373920,8602800,10783060,13331300,21276220,9094750,9728460,6000900,7393940,8235750,7061080,12624040,5852625,15272340,5972585,9665040,17879080,12310100,13971130,9776410,7638500,22778410,5441000,11750710,8827940,9186250,6312750,14093240,8296250,20346350,10686720,9198300,11396020,5998500,6860970,13623940,8400465,14285850,7553060,6142750,6956820,10288980,7706100,12614460,13788450,10214695,10095000,3854375,11180570,3767125,8353830,16068640,7916100,16616430,12639580,9030250,19600940,8779820,8744875,4310500,8963715,22199910,12756380,12803570,17657420,13173400,5550090,6789000,12021160,10595700,7243250,7187350,9347935,8739885,9462850,21203240,10033660,9846750,9553000,13009590,7693965,12335200,10631860,11398650,5829250,11338200,12885880,14510950,10734750,7066280,9930400,5553875,14211600,11690990,8134850,13489720,8344040,8836970,12711220,8824390,12185540,13043320,13788450,17934280,9499000,7383325,11144770,10546405,10626300,7954770,10881370,10556410,5743315,4926250,13860650,12115600,8007290,20940460,11476830,9350120,8141330,9525100,11069780,11451250,10442550,10771580,12499040,8393515,12459650,12303260,14198960,6922750,8725650,8850660,8495640,18080410,11359500,13457270,11517700,9817500,13277420,7952375,12858080,10122740,7550250,8397000,16174720,15665660,12412050,9865200,12114895,8327210,13356200,8144950,12792980,13385355,13904760,12713420,12514000,8885505,7779515,9567000,7082000,11354960,4849000,11551700,5815125,3914750,8448350,8528780,14105580,12110770,11517200,7463750,10491150,9539520,20550920,14121610,11436120,5275500,12578650,3250250,8812400,13903480,16142300,12712980,12078690,13511550,14898480,9492700,6576375,4894125,10599680,20246360,3189500,11489580,11894750,8250025,6687375,16497820,11252380,12454750,13860650,5232500,13851040,8086950,10078530,9516880,8074630,21858180,8068000,13265120,12713420,10561720,9350120,7640160,11573840,17442610,8141330,8931450,11229080,8386750,9404200,12858080,8854370,13060780,5464000,7342750,8778570,6956820,13672720,10651250,14837130,12813210,8545605,9104380,14192960,11985600,21122200,4642000,16967540,12697830,10252060,10843610,7167380,7418190,11653680,9701100,9104380,8358120,14025290,5038250,13171300,9462850,11713410,5679000,15272340,10612360,8514030,12019000,16025310,9345250,12156320,12827050,8386750,11096050,9995770,7452620,20734630,10956200,7626210,9629850,13907120,12290940,13159200,4678720,9264900,13465550,6774500,4408125,10455360,18073600,12825500,6237500,7931560,6206250,12754380,10038580,13703500,8449490,13384340,10904600,10114650,8718400,12352710,6965000,14832480,10670035,11074760,9059580,11411760,13039560,15043490,13606320,12711220,13438040,6811400,7850435,12101540,10335050,21107310,3250250,9179950,6020125,9409880,9071125,5782500,10439000,10569040,12048000,11613500,11096050,9935595,6992750,6853550,6248450,8057450,11506980,5743315,10096480,5310935,11665400,13945940,9906355,12775700,8388500,13275240,12866800,9953350,7814420,7525500,6816270,9073040,4462000,21140330,20272170,9343500,5923125,6298700,9553870,10366390,12472000,8920280,10252895,13975040,12905750,5179875,6577190,7350500,7208905,8159375,5147305,13553740,7603010,13510380,11712660,17720900,5643000,8929390,21437220,13384340,6465000,11265520,18722090,10064150,9338880,16025310,9540370,7415240,5441000,8274000,6823875,12857440,9478500,6846100,11385450,13925310,12946730,10542220,7142250,9179950,12032720,10011470,10214695,21789460,11104320,9576550,12356100,6474250,20192150,7233000,7716505,10636820,22124730,14105580,7883050,9843580,11040620,20823790,9817150,6778000,13683650,10720550,8567240,12651550,14878750,7197800,9802790,9912300,19766360,14237800,9062800,13925310,5727750,6195750,5947625,11489580,11998010,12695630,9189800,13118450,12565070,12677940,14030400,8134610,8656000,15389035,12416100,19609810,9176650,7906290,19171860,11123540,5643000,10209650,8755500,8802450,14054970,6922495,5290635,10106750,19609850,11447860,7807300,9917500,13638900,13620040,8812240,11190500,13832030,5441000,9550950,9304960,12054580,6567375,21008600,6149625,9651120,10930680,9304960,14646780,5330500,15148940,6527250,7758500,6399750,5895000,15494260,8952550,12511230,12332820,7499900,15010890,9378485,14411150,12872810,7321755,7586000,11235750,10007800,8563860,12357600,11220930,5745250,8745500,10381355,10169750,13695970,12763900,14682580,11290385,16294030,9840560,5668875,13346190,9487400,19041320,7064250,14154840,12986500,13244520,12450220,13560300,8100250,11462310,9162950,6312750,7365020,15310800,18402940,5256625,9637220,8421940,14285850,7946950,6811400,8827940,14465005,9950600,11718530,10732635,7261650,13310520,13709700,12055410,9927740,12351340,14217020,14239220,10463400,13087480,16569530,11003670,8986690,18233520,14898480,6930720,7586300,13859950,20613320,11915040,14671170,10387250,4437750,7550250,15941330,7931560,15495760,8243880,14156220,8907400,12713050,8418360,10366590,11727250,9469350,13640240,6598000,8352000,13553180,7546960,20215970,17542110,8599095,11003670,14155830,12928440,16617860,10338740,5173250,9338500,12544800,7559125,12803570,11252380,17454510,12812990,3013500,3781250,4310500,7463750,9123700,13179060,14464930,12072650,6663435,18991980,11469350,13637220,9005600,11821400,9211400,10444400,9324960,14666960,9491150,11318950,7415850,10571650,10495250,6857200,8762530,7751590,4746500,16982280,8155200,11157225,20514620,12171985,10063000,8235750,7745900,8004510,14686600,11855060,14263020,4996250,7948600,10149750,13888700,15569210,13986310,13942350,8992960,9920630,8416200,11650600,8569080,5783750,9885575,20461220,11670400,18125300,15965590,8024265,10478100,9871800,3247750,8447030,11552700,13099130,13712780,14878750,7375160,22043680,14569565,10184500,9651120,7814575,11266200,8984050,16174720,9038780,9044045,9648350,12574290,11225380,13874850,11578050,9151000,17669340,10989305,15032380,10904100,8227170,11266200,12575010,10721350,7697920,9464800,8044160,15741200,9231950,7485650,7706100,7462400,5244500,13266650,14452540,7321755,6251000,9071125,15344360,11997230,9613940,8197980,11658500,8734920,8793480,13170800,18436880,10169750,15913570,6846100,8217905,10382350,8120800,11451250,13208750,12123250,7525500,8978460,11407570,9556640,7870150,21810920,8066720,11090200,17722310,8134610,8007290,10254500,8758550,7993125,5340750,5455965,12370100,6102500,11726550,8082400,5355750,9627380,9258310,14088220,12146620,9329030,20272170,20838520,10929300,7036460,10567050,6579195,20838230,12075000,7196210,6561850,11154910,10241290,11252380,10599000,9901500,14102960,8498500,12198470,14874950,13852380,6686000,10009600,11226890,14703750,12448500,21473270,7329125,8576110,13846950,9967250,14542670,8288050,12993900,6703210,11466600,9125100,8316400,13827160,11157225,8597500,4678875,8272250,10288980,11470100,10007800,7331750,8561060,6686000,9798850,10462500,7335200,9075660,6606250,13173400,3975250,13122040,16377280,12097820,4798625,12532900,7196210,9519320,12532900,9429275,8812240,13369230,4680125,4918375,22918500,9776410,9667200,19615980,13669670,9775540,11680440,8664000,11536000,5655625,9651120,15496160,9446410,11874360,13180400,11252380,9343170,9109750,9998750,8317410,9728460,6348750,6611365,13138550,16930470,13575290,12279230,12793250,10917740,10626300,5613270,13378150,13937650,8172630,12371480,11435335,14090500,10431150,7540400,14333470,6040500,20362800,11543750,13839900,9906355,11325985,11837500,10739020,11487520,13594630,5597240,5032625,5159375,9750500,15780550,14717440,10708580,13018400,7155650,7924350,6444500,12162650,12357600,15388610,20215970,11337335,17701600,9293090,8871195,5815125,6857075,12110770,7764900,8328620,17858980,5374875,13003580,3219750,10104360,12192300,13683650,6752540,8634640,12560000,7828550,8539250,20496430,18712070,3928250,8137800,7559125,12316650,9350120,10458220,7600000,14057110,9758600,11677750,11435335,21810920,9701800,12980150,11003920,10232060,9341900,8713900,5438750,12554380,10784680,18809830,12415670,8913270,13888700,10649060,7813750,8813065,7319800,9400830,13265120,6348750,11510790,3339000,9120360,8376880,13683650,11262600,9689440,8197980,11291220,17600240,7751590,7626210,10668930,19817860,8978750,9555750,7997875,6897450,3000375,9265490,5280500,12813210,7952750,10239375,10646600,9378485,6553750,12156320,10168445,20838230,18312300,2797250,6472125,4408790,9871170,13293200,10931250,11375820,9831375,9957800,13211540,12072650,11998010,8528890,10031100,9475100,10381895,9400830,3577000,9150510,7095250,9607900,10576965,7082000,8624750,14773100,11868140,8516690,11329800,5716250,14048900,5796000,9882100,9899250,5173250,12146620,14395000,21320640,10678140,12493960,13560300,13788080,6810000,12782260,22078000,5940500,10239375,11863010,7948600,8802320,13450990,9637220,7243250,12285100,18796780,13035050,7953125,8599740,9603110,6568510,6630650,9255500,8047500,9871170,8336390,12575330,11060050,4806125,16800250,5899450,9047980,21141390,9302665,5038250,14397160,6149410,9170500,15678280,6849000,13642920,15815700,6811400,9038780,20613320,6532250,11658500,5943875,8262630,11839510,14328720,7478460,14327400,11900750,8414700,17701600,10011600,9446220,9433610,9857500,16586820,5091750,10688640,13180400,13584980,22829130,8466820,10279070,9244820,14403150,9273100,12807300,10199400,9902600,5619510,14671170,7520335,13989080,5314000,12682895,22712170,8972600,12114410,9050200,6161750,7041840,6037545,4704500,8434750,12649650,10423760,10807000,11375820,7559125,11838240,6125000,16300260,7091060,8134850,11329750,8087365,8406500,5256625,13180500,10008100,13057270,8837090,9613940,14285850,13280420,9491790,7924640,14211600,8561060,10313310,8728800,12195890,10253410,9040975,8155200,13185700,6631500,9494835,10934170,22319600,11264700,20330350,7495700,8907630,12683980,11544130,20697180,14542670,10226600,10700200,10462500,11154910,18310270,9404200,11690990,4027000,10560810,9701600,11129980,12356960,11235750,9977950,9533400,16243990,6840500,9354680,9808360,7811430,12303260,10007800,11642000,19789040,11290385,12650920,7811430,6356125,12564470,11235770,20402870,8905050,13014740,6855750,11939850,20787310,8878740,5232500,8262630,7750000,14086360,10599680,11613500,9995590,7740080,11696200,5882500,7020750,17603160,11111010,9586150,9553870,8479250,12873650,11819950,16497820,18436880,10188470,12930060,10581870,10521855,14902450,10571650,9607900,6061625,10676510,14671170,10309290,11157225,9579340,10699500,16814260,6677000,16497820,12207750,11346500,13461500,13206150,7135990,11692000,3029750,8559850,13221960,9320800,9263000,7866250,6652125,10184450,18428120,7533450,6192250,13403120,11762550,10917740,13867560,15389035,18333020,13039650,7929540,10831360,19554920,11548700,9043635,14179360,12012530,9299500,6754500,21437220,11350400,7094000,7957500,10847000,10606765,8646380,14086360,6831950,6519000,16485600,12053080,7575000,12183080,12251750,21858180,9585000,11226890,9759000,8675820,8640800,9248500,7499900,10199400,13173400,11838240,8889850,14874950,18183200,13581650,14616160,10094160,7918980,17701600,12713420,5326500,10699280,12570750,13526040,9446410,6020125,6441250,13174940,13174940,4996250,8739885,6688000,6702360,9258310,8350260,10847450,5852625,13238930,7976000,6333495,12601250,15247820,13385355,10390900,8883750,7975085,12697830,11127180,9402450,13586120,13744855,9665040,14904220,5805250,10620750,13154100,6922975,7832500,9414520,14358470,9618640,5587150,13360440,8916410,10651250,12288250,8090620,3874500,6050375,9202070,7399625,5301855,10512770,16243990,18402940,6054750,21544930,11996750,20180630,12363680,11650600,9868000,9038500,22744800,9429860,12993900,14579200,10638400,9081450,7524750,13267150,9603110,13920600,10738110,10948060,15185240,8934405,5301855,9225240,10527390,10010000,10769525,8194735,7242500,7506500,7818500,8988750,9144840,13851000,11730190,7701505,8978750,13788450,7734200,7374500,8196250,15673080,6618400,20591120,12244540,11517200,10763000,7116000,10151900,8460450,13730250,8078550,20033450,6495250,5999250,14603420,19627640,6050375,6207400,9253010,18673590,15496160,12146250,14691200,9179950,11552700,12047650,7208905,14278260,11548700,9889600,10754410,11899860,12537750,12412950,14927280,8415125,17061540,16025310,20234860,5101000,20527770,9480425,8427650,14485900,20450950,9038645,8792100,13486940,5769250,6493670,18201340,11228760,7210000,11855060,10241290,12219050,14263020,8572650,16947760,5342250,10782380,6505500,10063000,7279125,10638400,11671620,10225280,4158500,13907120,11718800,9630040,16959080,16805520,8345750,13650440,13867560,10576965,7384750,6307030,20215970,13829150,7899500,10444400,6472305,4593750,13444320,8155200,6597000,14393810,10711750,10493650,14350560,8358120,7587075,3000375,19512010,9211400,7693740,6042750,7037100,10904100,10309370,14761860,12053600,10104360,11337335,8586625,11462310,13191580,14707330,5743315,10029280,7603010,7485650,14485900,11541050,8803420,20362800,11889950,11930880,7486235,4268000,10773390,7751590,10444400,9179950,13763020,12539630,9409300,11926000,5340750,13282450,12308520,8709375,13676650,3250250,10746250,8522150,12232800,10064150,10439000,20450950,5259250,10556410,7670180,14205080,15903000,9482200,18803650,4944250,10696080,14017800,8272250,8640800,12894500,7265010,11327760,10105060,8213890,12721750,8415125,13852750,8000250,12802880,14138950,19830670,14703750,13057270,9935595,14686600,8414875,5856500,6815000,22201820,5885000,5940040,10787350,14397160,20999330,13176350,10904740,10444400,17471500,9236700,10140700,13098030,9900740,12248000,12133700,8629140,18299980,11155480,8636980,10890755,14327400,13118450,11963590,8322920,10039740,8989620,12171140,4158500,8393515,13346700,8981140,22053480,9257750,8841600,10288980,13603120,10104360,9009200,12560760,13403120,12858080,10006870,14421410,8297305,10088050,8734350,13408980,9155320,8297500,18676960,8793625,19090950,7989450,11883250,10019360,7600500,7913300,10895520,10210500,8529780,7913300,14452540,8640110,13328250,11994130,15862990,9379310,12924800,16602700,7826780,20527770,10554500,8925160,9625180,11926600,9943840,10222380,10995790,11781260,9255500,9879360,8354290,11691860,5801000,10756350,5136000,6928000,10092000,11680440,11412420,12486170,8017830,10048510,8249260,9927740,9799440,13511550,9735150,10756350,14927280,11409485,11578050,7150185,8969400,6297250,6978025,10241290,9079950,22499190,12334760,10647205,12300050,10502000,9675500,15773770,14106990,17586840,7705800,7944000,22043680,6709750,14086360,12569440,20707160,3999250,12356100,13152750,12343180,13841050,8683125,7384750,8725740,14152290,13369230,5244500,11573840,14198960,12654180,11111010,12261610,10961500,6810000,12055410,10151900,8242250,6784000,14237800,7947300,8828350,15247820,20542790,9320800,11935020,11596240,10917740,5745250,6951120,13623940,12412950,12801500,6999250,10894470,9795730,7329900,6818200,10386500,10831360,18316110,5601750,10458220,9513220,4917940,12257060,10346560,5205500,7967750,10961920,7877645,12076560,15387480,11531350,23307000,10571990,10546405,15780550,16803310,7862800,9626680,12459650,13144750,10848760,10232060,13603120,12403760,9574550,12286360,9947855,16318360,11582700,8050270,10875910,11180570,8638965,10432830,5745250,11071500,10387250,9890620,11543750,7600500,9758035,5038250,19615980,9708700,7520335,9273100,8883050,9827320,6853550,5383250,21141390,9079950,10163100,19685020,6185335,3093500,8871250,13737610,10922160,7145230,18331880,10106750,13852750,13180400,14482020,9314000,12639580,12133045,13507780,16550350,12386240,12021160,9892600,17084160,13321150,14902450,7038165,17978100,9485505,10038630,10382350,7066280,14927450,7331750,8083650,23667340,13178340,6399750,13545830,14862430,12545220,7629750,10925400,10746250,5398500,13832030,9255500,9404750,5057875,10017780,6629690,16967540,11444400,12964940,11799500,7972690,11985600,18646240,13316650,14192960,11325985,13438040,5438750,11770400,11440690,8050150,7452250,20657270,15569210,7208905,11256610,17612900,7257400,12548930,7738440,9485505,7696750,2939750,11139610,9409960,9044045,8191250,9647855,14671170,13744855,11354960,9292400,7575000,13547460,11573840,10757980,9987005,11224620,8263500,4396250,10439000,8147530,8021300,15044200,15100560,12295050,3219750,9220450,10676820,13355100,3561750,14866620,11202460,14394140,7358650,8978750,7174375,9098680,11710370,9786440,9189800,16538570,13938740,12694600,10226600,10056300,7385285,5272250,10940600,7452620,9629850,9773000,9613940,12867540,4663000,6472125,21735940,12669880,11462310,11173220,15499680,12285100,11871500,9451250,20738440,7205505,10843350,10189000,11123540,4593750,7190600,12993900,11819950,9209360,7866250,9794230,11667050,5856500,14217020,21810920,5829500,13534820,12564350,10569390,13009590,12388350,11217940,10038630,17529340,6081000,4905000,8812400,11546330,13289900,10629750,17645160,8885505,20819590,10283850,6607200,14392520,12415670,9785400,8809180,7029740,8254270,11905350,13867560,8013720,8268875,8272250,13211540,8340500,12244540,7039250,21941710,7193800,15326290,13502160,12341040,9361880,16377280,21562790,13871100,9840760,10388400,11031970,5333875,8292190,8050150,9037200,8346000,10940805,9433610,14166140,9794230,10454020,12911300,4876500,7832500,20591900,18310270,9333075,12014520,7040500,11809740,3524750,7929540,8793480,10843610,7575000,20020970,9808360,8071375,9917500,11111010,12383200,12235870,7525375,9258050,9117330,11853140,13296730,16271740,6590000,10651250,13361380,10408250,10007800,10847450,5100500,12752470,9333075,12947100,13055160,15769700,12387700,15815700,11351580,8511480,15476650,17105720,8471590,14485900,8453795,9325860,3916750,8895625,11141710,14376540,10040100,7922250,7410200,10727975,9847570,12063670,7696750,4721500,8636400,12144500,6818200,5523875,7197750,10280800,6397375,7146890,12565070,7479000,9409300,12232800,5858250,7355250,7813750,13362600,7586885,9009200,19300690,11071500,10010000,17436220,9480425,7701505,5782500,12885880,6702250,13919200,6878875,12624040,18163890,10091620,10104360,12295050,8060000,11581500,22302670,11265520,11003670,8889850,13764300,12893440,10630800,19526110,8511480,18598580,16814260,6206700,13297100,10302000,9125100,10976510,13567150,12876250,17480550,10720550,9711430,14620220,7720300,9662810,8720250,20734630,5923125,10612360,7034750,7804500,7205505,6377750,8776500,12116210,10936000,9943840,9615130,13667200,9492280,11855060,7629750,8418500,7383325,5940250,13234330,5950375,9507320,13511380,12687420,10235220,4918375,13378150,10826770,10739020,10030670,20613320,4517000,7812910,8092500,18855250,13180400,8548080,13476480,11574940,11165550,8196400,10556410,16803310,8871195,11650250,5950375,23247590,8288050,5829000,11727250,7855000,9104275,10848760,20787310,18192700,7815055,6705750,9965620,9107430,8355660,7953250,12055410,10236960,13410030,6329250,15199450,17099760,7603630,7439700,8308970,12588460,8522150,8261000,7040500,12177140,12640950,9451250,11839510,12078690,10260000,17422560,14021800,12801500,12368280,10236960,20982920,13511250,10652120,6410875,12910620,17556170,6511200,18918950,14297200,13307710,9185970,10441050,4855000,13831750,9555750,6546625,10651460,12977000,11777200,6561850,7462400,10676820,11053290,9516880,6702170,13780460,9409880,7870150,9996000,12171140,9721700,13714220,8196110,12204650,9778110,17436220,19816180,7640160,9819500,13763020,10337000,5711000,8483250,12364800,4555875,13788080,8750680,4198000,14459960,13533950,12448500,5670200,17733960,13003330,9494835,11770840,13989080,8839880,12756380,13259060,5943400,9341900,13776050,9753980,12948200,4894125,9198100,9163250,7559125,13216400,13160800,6849000,11182520,11859315,4894125,11683630,5947625,6190150,6387750,10444400,5248500,13877710,3339000,13327120,9667200,11517200,10880340,10670850,9198100,6714500,5702750,13494580,13174940,17480550,20509480,13137420,9648350,15043490,5100500,15199450,17603160,11202460,9522360,8334330,7382320,14074260,9185320,8709375,11762550,12151100,9244720,9376320,5449625,13898300,7862110,8939375,9810510,11949030,9758650,7976000,13221960,12812990,13293200,11254700,7857455,14102650,9721700,11663490,10834880,13458750,6686075,13586120,10387250,9906355,8646080,17398770,9022165,14471130,12532900,10248370,10784680,9042050,8419850,13763020,10358610,9371100,11967520,9894050,9795980,7415240,11381360,15965590,9213320,9044500,4362750,7848980,12363680,13639800,8837090,8299955,10555860,12224420,9743700,7887730,21735940,8020500,13852750,7745700,6702360,13346700,11254700,5639375,9637220,12713810,12721750,22053480,7675500,17101580,14178210,9394640,18815020,12419160,9791680,8420300,3891250,13460460,6297250,12751600,13986920,12416100,5859875,20715860,10342830,5140750,7809500,9741520,14799120,16930470,9615130,14464930,11312450,3869180,14898480,13486940,6717750,12285100,17991120,12611320,13942350,7521800,9786440,12032720,10904600,10521855,6791800,8702100,7061080,11805840,13450300,8316400,14072760,9592970,8952550,11302520,9140400,14358470,13275240,8762710,11536000,11348140,14507380,13868440,10446850,6962250,13244520,12290970,18531930,13384340,12286360,11084700,12782260,13957610,7600000,7383325,10178500,12858080,8947040,12303260,10438400,12393500,19844870,9081775,10383420,14121610,21897640,12356100,10598610,10411240,10940805,12575010,10950540,19730040,4703750,8799300,13384340,15479240,20181980,14898480,8569350,9480425,6996450,10667920,12046250,13986920,7487725,6074780,11346080,9024860,8725650,11405500,11312920,12305480,9037200,7443250,13362600,7880000,12128780,14196640,14602660,11320960,8599095,22348850,17529340,14332790,5702750,5283000,8762530,9328250,9900740,8372710,9354680,17523920,8779820,15773770,7871720,10559330,6904000,7884540,15163850,10748500,15272340,12505960,14529560,13594630,21014810,6999250,7638500,7979400,5943875,8333250,10598610,7191840,9374280,9964150,9785400,9593040,6895000,8476180,18111990,16527040,8907630,10423760,4706750,9572300,8183130,8203665,5330500,7541750,7210000,6815000,12370100,11624150,16616430,3524750,13638900,12756200,6686000,11484740,13083950,7375050,17720900,17586840,10671200,9301605,6666735,9965375,21122200,10974200,12162650,11905350,12499040,5940500,10423760,10121570,12680410,5244500,7629750,11270700,7989450,9846750,8229750,14407200,9794230,16410600,14393810,19704720,11779810,14715230,9643920,12756200,13383350,8366750,5500000,14239220,8646080,6863000,10556375,9993600,10905530,12493850,17959010,15495760,8935000,5472500,10300610,13083950,8484620,12813600,7135990,12739970,12359320,9960280,6369250,9160750,9319450,13466270,8469050,13152750,13567150,12928590,19567180,14256340,12183080,9103100,13832030,13364730,9071125,8713900,8178625,8320290,12402070,18312300,5383105,11131800,12439640,17242780,4710125,6646210,11809740,12063670,14246650,5342250,12192300,13603120,8745000,9146500,17422860,5962250,12977000,9112450,8901750,6519000,8661120,10448260,12946500,5326500,12754890,9022165,13510380,6481200,13316650,11167270,13645040,7358650,12428900,8050270,9642250,21220250,14415250,10096480,12450220,9890620,8598500,14358470,10904600,14741440,7167380,13122040,9817150,6709750,9252340,6958750,6922495,13677550,8976940,5207250,12115600,4398625,15199450,12476770,4748500,8925995,14254400,14083210,18302850,6208110,7308060,12123250,13454780,7302250,11560690,8899375,13526040,11319280,13919200,9651120,14980260,9030250,9843580,13582900,8766600,10416480,4918375,10998320,9673210,5923125,8776500,8656000,7671200,13369230,14310420,8631250,10463400,10829380,7520800,7596170,10530200,8992960,6765000,11764865,17240870,9801480,15850840,7078720,21203240,12680410,7538000,10149750,6603250,8939620,10274050,11813340,13511550,10677650,3950000,7293785,5237125,11073340,4905000,11820720,11515200,10885530,10038630,5452000,9835470,10374040,19285540,9002750,5619510,12867540,8241375,7191840,10801520,15997510,6778000,9952510,5903750,16882760,9464500,14006950,13053100,8071050,9708030,8678060,9689440,8917740,6016875,10795500,11060050,8448350,8074850,7497100,12337670,10444400,4667875,11405500,8460450,9845950,13596890,11903865,10446850,6298700,5244500,8149280,7352150,9292000,8569350,11319280,6193485,16367000,8414700,8388500,15476650,10625000,12391870,10434260,13791060,19083430,15456650,8745000,10630250,10149750,9451250,12574290,16758540,13945940,8516690,9367960,13654950,9387600,9653285,8488790,9955700,12730270,9106920,9930400,10801520,8539610,10630250,9622550,11701750,6966500,8350550,9144840,9729900,9773000,8839880,8420300,13160800,8809180,11121040,8288050,15043490,10681680,9357800,12207750,5280500,9810510,8155200,10019420,10491150,10843350,10666560,14086140,7926700,12627100,12503750,13391620,10188470,7399625,10629750,8886250,9705900,11679050,7385300,9098680,13363810,6435890,7038165,7485650,7881135,14135780,21804220,12946530,13534820,9888000,15317750,7693740,13650500,8231860,8197450,22186250,12458150,9140480,6356125,8812240,14554600,17538420,18598580,12709550,11286200,3891250,7039700,17670400,8528890,13730250,8174460,14547070,14990730,10232240,13948580,18073600,14646760,11805840,12343180,8551500,10940805,6020125,8690980,9748900,12182280,6016875,12572000,6847250,13923830,13039760,12093600,6804500,18554220,7439700,13026640,8071050,12957140,17061540,11111010,6182600,12318550,7938700,9347935,16006000,4740750,8322920,9062800,11867800,8940790,10542220,7814420,11985700,5248500,14814620,8712970,8585715,8261000,12251920,14822920,12286360,12802500,7082000,15494260,13510040,8932590,10784680,11563580,20703290,8351070,9071125,13941590,11134480,12114895,9801040,15247820,10769525,18896300,9957800,10172480,8328620,15704500,11217940,8812240,7160890,6149410,11367820,13450300,18984160,8350260,6083885,5550090,11478110,13271000,8744875,11225380,10411240,8263500,13788080,9791680,9464500,10080280,11527430,12867590,8905050,9705900,3093500,14449620,6607690,13234330,20402870,8350260,7130400,11777200,5743315,11727250,13277420,10065600,6008250,11291220,11827040,8598500,13871280,12183080,7207000,17314380,13669300,2156875,7704750,12596710,14299560,7049500,19428640,10847700,12403760,12072650,6227250,10443600,9263000,13438040,12904650,9177820,9255500,9593040,20551520,9588670,9459475,13346190,13245710,9446410,11751940,12251750,10746250,10485020,10296250,7040500,9255500,10283850,11430420,10129160,14915900,11076280,8372550,10011770,10485020,11231390,14077500,17357440,7827250,10339000,6016875,12680410,9692960,12192300,9843580,13986920,8476180,20527770,6702170,9234130,10411240,9662810,10829380,13450300,7814575,8418500,20272170,11117625,10121570,11855940,8569350,10089670,11774560,13511550,10599680,9368650,12493960,10527390,9701600,8129650,10584775,11712660,13547460,5994000,6652020,22053480,8393515,8057450,19275870,7226100,4678720,14274180,14529150,13404800,6486150,8442110,5207250,8511480,7812910,8388500,9314000,9892565,12146620,10542660,22519520,12439270,14901220,14565090,9332280,13402700,8105250,8414700,11360310,8080925,6333495,11350430,14274180,11510790,9491790,11395560,22829130,8969400,12724510,5940250,20139900,10774250,5101000,10160800,13538580,7038165,11574300,9316900,10463400,7989450,19337750,10889570,19257730,13788450,8254270,9930400,13316650,13378150,8287180,7193030,10105060,10439690,18546530,5254245,7629750,9222850,8065300,8495640,14205080,10696480,9374280,20707160,13582900,13331300,8071050,16440220,9352100,14090500,8690980,6201000,13613320,12040960,9042050,12156320,11284500,11578050,3928250,14826580,9352665,9024860,13919200,6298700,15195150,7978600,5159375,20496430,11489580,4310500,7096350,13756100,16929800,7862110,9263000,10732635,9817160,10843350,8582390,3807000,11489580,9637220,9594250,22201820,9527840,13324620,9393450,12724510,12906800,7586885,8739885,13937650,12569065,10093170,13613320,13627500,12039380,7870150,16053550,9540370,13986920,11436120,13091650,11291220,8899500,9711430,11235750,10042440,7676450,14634500,6965500,13855020,8548080,4158500,3247750,8318450,9582140,7287735,6587500,12508940,10560810,9475900,18725520,10976510,5727750,14477850,8071375,11360310,7610625,9073040,10525625,10274050,10922160,12368790,8699125,12863520,10169750,9358400,6480125,12885120,20657270,6579195,12171985,12370100,14687760,4740750,12370100,11065040,14468350,8713900,20999330,7233000,11243310,13663850,9451250,20024110,10968170,7688050,7978600,10466910,7839405,9947855,13871100,7439700,7197800,13791060,8137800,16567500,8268875,9727500,13438040,6677700,13764300,11874300,10954860,12825500,6149410,5716935,13841050,8646080,15499680,20697270,11956550,11354960,6823875,12758250,13770420,7815055,10905100,11955405,15599020,12403760,6662000,10250150,9077550,8299955,11863220,8758550,8215250,12683980,11531000,12809850,5781750,6016875,9668900,13018400,9459475,5716250,5668875,9198100,15665660,14685790,8191250,9255095,11248750,10581870,10758000,9696550,8712970,12432000,3219750,11450470,18200410,11847350,10250450,12432000,11228760,9214930,7541750,13642920,12782330,10714500,13293200,8886250,6715750,11839680,13360440,8547750,6553750,19704720,14218350,9213320,11828320,8992960,9345900,9103100,11531350,9900740,12157650,13037450,9241670,20940460,14620220,10538280,14102030,18115790,14310420,6853550,10428940,12388350,8901650,10468580,9329030,21327550,12575010,13098030,9625180,4886840,7101750,9563095,14920370,8586625,11053290,6652125,10948060,10272980,13168605,12420250,8177900,14791400,10995790,6827500,12364620,9162950,14238900,7476500,13489720,11131800,11154910,9222850,18658980,11444400,14377300,5913625,10302000,11716020,5923125,9772960,11903865,9341380,8824390,6831950,10961920,7737625,9357800,10225280,18690080,14685790,7775990,20330350,11504330,10370100,11762090,9375550,11829500,19159390,15272340,17360470,13729040,10920230,14638800,10200600,10858770,11336400,12006850,5940500,7693965,12450910,12116010,16070870,19428640,10410130,8547835,14204550,15496160,11777200,13776050,19285540,8020500,11915040,12305480,10622400,14917160,13832030,17545620,9863280,12341040,13489720,9104275,15003560,12429860,7190600,10581870,11506980,12012530,13874850,6702170,10546405,9845950,18298710,8133300,6686000,11351580,13160800,9566290,7774580,10252895,11492190,11543750,7910000,11312450,9114000,5251640,18546530,7284250,12026070,6227250,11019000,10493650,8131700,13283040,8528890,9038780,9845950,7428250,10760220,17187060,18853070,9772960,11447860,16602700,13623940,12910620,13308950,14874950,6895500,17193660,10169600,12415260,9390500,12941380,14844980,11157010,12012530,12812990,5091750,7677000,10096480,14299560,11529500,7691250,7803250,14179360,12601080,11374070,6973595,7839405,14620220,17797530,9865200,20518750,5283000,3717250,11992650,11451250,6999250,10132150,5858250,12225650,13259060,10908000,6666735,12116010,14620220,5072750,15178120,10236960,9482200,10248940,10358610,8962970,13846950,9073040,14480950,12371480,8185800,13858750,13144050,8250025,13140580,20402870,8111350,18546530,5882500,6857075,11430420,13545830,6618400,14402200,9641790,15678280,14499510,7751590,9241990,9398750,10092000,8982400,13423020,8598500,7382320,11157225,8506290,8882720,11574780,10676510,7478460,20982920,12928440,5251640,5878000,8414875,15488740,9890620,20499450,10846380,20542790,11650600,11338200,22459910,8629750,14376540,11284500,8388500,9574950,13346190,7557625,9747000,12569065,9304770,13971130,5308500,5613270,19635040,10222380,8366750,13551850,8282640,13120960,10080280,7133850,8517175,12427940,11095180,21544930,20026580,8243880,14159480,9495375,10655980,13627030,8507750,10759755,12171985,14917160,10094160,10587750,9429000,20063100,7948600,10249680,13064510,5849125,3524750,10093760,9536960,9786000,20999330,3717250,11177540,4984750,11350400,14397160,14214940,7582840,7932350,9819500,7265010,8396250,10256260,6982000,8798750,9050200,8233645,7871720,8403900,6830600,9304770,7696750,8007250,15851550,9213320,10084580,10671200,10337820,7178990,3000375,9592970,11359000,13788450,18312300,12394750,8427850,8427650,12957140,12387700,8269700,8396250,12085470,8828350,9311100,8543500,4936250,6377750,15044200,10184450,5923125,9871170,11526700,13606900,7989570,11991280,8511480,7877250,6794000,10571650,8802320,18192700,11216030,12543380,10729700,7903000,6452785,8513600,10253410,6863000,10058430,4027000,12051200,19730040,13957390,14902450,14046320,19897420,14376540,10671275,10178500,14158860,7495030,13523500,11992650,12448500,9995770,9409880,20037030,7758500,8131700,4819500,15495150,5737000,14228100,8129650,15110580,20734630,8358120,8120800,10171120,13180500,9664460,13144750,14400140,17566590,10011770,7954770,9980320,12858800,13979190,13107540,10970740,11581500,7441350,18796780,8802735,8210750,10381895,11761550,9302665,8433410,13846950,12146250,5801000,13885100,15715370,12305480,10542660,11168750,9708700,11251850,7210000,8453795,8288050,11244250,16499010,8905050,13478895,11996750,21809430,9098680,8015800,13885100,7356375,3561750,8353830,10019420,9345900,6962250,12428900,12542950,12946500,8269700,7691250,11141710,13510380,13113330,19817860,10961920,10527390,4663000,7549650,10774250,9350380,9257750,6390000,5283000,13238930,13925310,10191950,7078720,6390000,3000375,10756350,9753250,11716020,10173350,12416100,8366750,9050200,18796780,17564820,7818500,3102500,7989570,6956820,10631860,15664740,8050150,5745250,13266650,7610625,10515160,11216030,13069740,11780070,16602700,13805110,9491000,9444500,7385285,7446000,11167270,6677700,11855940,5899450,9444500,13697100,8619940,7804500,13131500,9260750,11280410,13859950,5378000,9150510,9315900,9491300,12918430,21969520,8092310,11405500,14927450,10302000,10120070,8899500,10171120,8403900,7062500,10478100,20527770,12387700,9737150,7463750,13049510,6774750,19633070,6083885,11110165,13176350,20244990,13523500,14015750,5383250,7261650,23667340,14350560,13331980,14078710,16068640,16349020,10961500,21329650,6816270,15388610,4646250,10105060,7485650,6823875,13606450,8023795,5101000,9686030,12683980,5546495,13046310,11431740,15559710,13763020,6207400,16280140,14179360,8131700,12341040,12123360,13606320,5455965,10929300,8646080,8646380,3854375,14477850,9293090,13985270,15773770,5972585,14597300,15673080,14085560,8687250,12687420,10337820,7406250,11123540,5852625,7094000,9047980,9073040,8594875,12813600,6208110,10749120,7525500,7374500,12532900,10080280,18302850,8848285,7546960,5198500,7525375,9201770,14072760,2476375,14893850,4704500,17248780,7094000,14090500,4678875,10358610,5199250,5333000,5244500,8414875,4268000,18310270,14771930,13620040,13976300,14196640,8529780,5770875,7014500,8836970,12371480,15344360,11280410,14192960,6888450,15277200,10573780,11264700,10646500,12687420,4310500,5199250,8078620,11226890,13021950,21717770,11010960,6206250,5829000,13859950,11606300,7265010,10736530,12071880,13178340,7174375,11365900,17651360,13855020,13603120,18485760,11081520,7948600,9563000,20738440,12429860,12439270,12784640,6190150,11829500,12724510,8563875,12099740,13024030,8636980,7335200,17670400,7726750,6898750,12370100,9244820,8457350,8990700,9965375,6815000,21067620,10847000,8551500,15777670,8717385,8548080,13669910,7640160,12514000,10281375,6050375,4982055,10998320,9468000,7130400,11407570,13358600,13252420,6420875,13094870,11270700,13049510,5290635,6057375,10282340,12480160,11470100,12198380,11804935,7691250,10757980,13770420,6050375,19337750,13938520,11613500,10173980,9409880,7190600,10441050,9371100,6195750,9045605,6870115,15132260,14109250,13090350,9510440,13035050,13759280,8424480,5550090,8408440,9824900,12039380,5923125,22630540,7877645,9281280,12910620,13858750,10031100,10386500,7190600,9625300,7987950,6511200,12337540,8634640,8669050,12111940,13518220,4849000,17805860,9494835,21789460,3854375,11330100,21686920,17084160,13925230,10001250,9945720,13120960,9475900,9824040,15195150,4517000,11920820,8188000,9629850,6300625,10589000,11992920,17101580,13215865,12394750,7818500,9492700,9894050,13840180,9737150,14620220,8174460,7174375,14209800,8364650,19369040,10512770,9358400,4372250,6918250,18080410,8702510,6369250,12316440,13584980,8745000,10599680,5072750,9475900,13885100,7369890,13039560,4408125,8962970,12649650,10905500,12732100,7216250,17623460,14640260,7446000,9075660,15733300,8812260,13154100,17336020,7827000,4928250,7384750,8925600,9170500,7064250,9567000,4771750,8129650,5727750,7706100,8229750,11233080,10682000,5248500,9341380,12560760,7087250,10063000,9459500,14597300,11402380,13957610,8504780,14480950,7802500,13729040,9824040,13788450,7954770,8133300,7716505,14917750,7745000,14898480,7187570,12526950,8646380,6497000,19257730,10958500,7745900,10274050,11264700,7815055,10169625,10283575,12428900,6972000,11206050,7074750,13712780,13176350,13483830,12508940,10084565,8008950,6815000,11487520,18143430,11417640,5425250,13120960,15715370,20838520,20707160,15389035,5147305,19685020,14238900,10149750,6050375,7750000,14211850,9708700,11839680,9642250,4663000,13554470,10674350,12730270,8528780,12368790,12564470,12911530,9665040,11266200,8570300,13638900,7329125,5038250,9338880,20330350,18546530,16142300,8424650,11828320,10920230,16053550,6904000,5624750,14239590,10726300,11487520,14902450,12202770,17101580,16616430,10209760,19844870,8420300,11573840,8761750,14377860,7487660,4849000,8484620,10237660,15779500,13131500,14392520,7968490,20555760,6789500,8836310,7825375,11327760,8569080,8060000,13877710,9657300,11667930,6561850,5847520,11466600,8110875,11071500,9805150,11762550,6579195,17891240,14345060,8469500,12435730,6966500,13763020,8172125,7265010,7525375,7464800,13676650,11581500,7511125,8506290,11113950,11650600,6329250,11109230,13458750,17265880,11727250,9378485,9064800,11947050,10931870,22000360,7917300,11507600,10708580,8978460,8585715,10436115,8021300,11280410,14086360,10556410,8071375,6420875,9341250,10912550,14377300,7695240,15741200,12257100,10840625,12177400,20514620,9151000,12209510,17336020,17695060,11998010,10120070,8017830,10161065,12539630,18917730,10253410,13435000,12199430,11487520,11581500,18163890,9594250,13890750,11900750,12486800,8340500,17314380,7952375,8137800,9473200,9105350,11350400,10569390,20586630,12623360,11574940,10021800,8023795,9451250,8616750,7809500,11022270,8631250,8563750,11081520,14028720,7243250,13699490,16354300,22499190,18531930,10809500,14394140,13788450,8545605,3854375,10063000,14419380,9198100,14241140,9778110,8930250,9311100,14102030,15704500,6450250,10214695,7698750,10371250,6313250,12006850,12198380,15532620,12976220,8815630,9429275,11402380,12412600,6956820,8008950,10884000,14477820,13403120,17645160,10674350,19678440,9894050,9607900,9079650,13479510,17131960,11291220,17039580,10910100,8616750,12427940,9234130,12432000,13361380,12171985,7190600,11994050,10256260,11360310,11417640,13160800,15678280,12910620,12185540,10038580,14285850,10444400,11691860,11098160,22449450,7832500,5885000,5950375,12274630,7019000,8582390,10790770,11863790,8824390,18725520,7205505,7952375,9741000,12261610,14135780,13171300,10678140,11333130,18201340,10948060,9218040,13923830,8372550,9051140,10501150,10595700,12574290,10525540,8802735,4971250,4661125,5374875,22124730,8895625,12171140,11157780,13800760,8196400,16280140,13209090,6461750,9638990,20734630,8548080,3524750,14344210,12477240,5251640,14358470,10748500,18200410,7178250,22431260,10091620,10589000,8538500,9030250,13832030,12486800,10309370,13160800,7304000,19817860,9475100,10521855,9310120,14116310,6322560,13361380,7603010,11839510,5623250,14246350,7693965,7130400,9225240,9255380,8892625,8874700,7484250,9967250,8987700,4886840,6524930,4345125,7812550,5378000,11474270,12837890,5752875,17248780,9863280,10092000,7210750,9329030,19571820,4752250,17454510,12300050,12614460,10169600,14211600,9220450,11346500,9550950,14211600,14204550,13553740,9888000,8008250,6996125,12123800,10444400,7429230,6266250,11060050,10742050,8766600,9593040,10208460,10847700,10757980,12114050,10940805,12316650,12539630,13979000,9146500,4479770,8745660,5865875,6754500,10556375,23247590,12677420,12542950,11650600,12857440,19297260,13327120,10381895,7895235,6298700,13737610,12813210,7014500,14214940,10617090,11264700,12997600,22078000,6624250,9132865,7525375,10932200,11867200,4667250,22459910,14008700,10676410,6192250,12966920,8336200,13099130,8963715,10235220,5550090,12093570,14477850,6687375,11050340,8072750,11985600,14225180,10779980,12428040,8231860,13362600,11375820,12752470,12941380,13040160,8638965,6248450,11085750,12255910,10742050,9735200,12428040,11930880,18646240,9057500,8263500,7587075,12554380,13361380,9495375,7045750,15324610,8440180,4928250,14772160,15903000,12357600,7304000,8340500,8047500,21050860,16012600,5340750,8071050,7952750,18438250,12543380,4918375,7150185,9257750,7205505,7978600,8131900,12614460,12713420,9463960,15979940,5745250,13063450,4806125,13874850,9104380,15704500,16929800,6435890,13822920,11262600,11704830,9719400,7036460,15122540,6252365,8213890,12427940,15852740,6792750,8637740,8563875,9785400,9911860,10727975,7864100,10727250,20819590,8072750,10509330,13267150,7451100,8431750,16536140,7167380,8033250,5796000,20562600,7304000],\"xaxis\":\"x\",\"yaxis\":\"y\",\"type\":\"histogram\"}],                        {\"template\":{\"data\":{\"histogram2dcontour\":[{\"type\":\"histogram2dcontour\",\"colorbar\":{\"outlinewidth\":0,\"ticks\":\"\"},\"colorscale\":[[0.0,\"#0d0887\"],[0.1111111111111111,\"#46039f\"],[0.2222222222222222,\"#7201a8\"],[0.3333333333333333,\"#9c179e\"],[0.4444444444444444,\"#bd3786\"],[0.5555555555555556,\"#d8576b\"],[0.6666666666666666,\"#ed7953\"],[0.7777777777777778,\"#fb9f3a\"],[0.8888888888888888,\"#fdca26\"],[1.0,\"#f0f921\"]]}],\"choropleth\":[{\"type\":\"choropleth\",\"colorbar\":{\"outlinewidth\":0,\"ticks\":\"\"}}],\"histogram2d\":[{\"type\":\"histogram2d\",\"colorbar\":{\"outlinewidth\":0,\"ticks\":\"\"},\"colorscale\":[[0.0,\"#0d0887\"],[0.1111111111111111,\"#46039f\"],[0.2222222222222222,\"#7201a8\"],[0.3333333333333333,\"#9c179e\"],[0.4444444444444444,\"#bd3786\"],[0.5555555555555556,\"#d8576b\"],[0.6666666666666666,\"#ed7953\"],[0.7777777777777778,\"#fb9f3a\"],[0.8888888888888888,\"#fdca26\"],[1.0,\"#f0f921\"]]}],\"heatmap\":[{\"type\":\"heatmap\",\"colorbar\":{\"outlinewidth\":0,\"ticks\":\"\"},\"colorscale\":[[0.0,\"#0d0887\"],[0.1111111111111111,\"#46039f\"],[0.2222222222222222,\"#7201a8\"],[0.3333333333333333,\"#9c179e\"],[0.4444444444444444,\"#bd3786\"],[0.5555555555555556,\"#d8576b\"],[0.6666666666666666,\"#ed7953\"],[0.7777777777777778,\"#fb9f3a\"],[0.8888888888888888,\"#fdca26\"],[1.0,\"#f0f921\"]]}],\"heatmapgl\":[{\"type\":\"heatmapgl\",\"colorbar\":{\"outlinewidth\":0,\"ticks\":\"\"},\"colorscale\":[[0.0,\"#0d0887\"],[0.1111111111111111,\"#46039f\"],[0.2222222222222222,\"#7201a8\"],[0.3333333333333333,\"#9c179e\"],[0.4444444444444444,\"#bd3786\"],[0.5555555555555556,\"#d8576b\"],[0.6666666666666666,\"#ed7953\"],[0.7777777777777778,\"#fb9f3a\"],[0.8888888888888888,\"#fdca26\"],[1.0,\"#f0f921\"]]}],\"contourcarpet\":[{\"type\":\"contourcarpet\",\"colorbar\":{\"outlinewidth\":0,\"ticks\":\"\"}}],\"contour\":[{\"type\":\"contour\",\"colorbar\":{\"outlinewidth\":0,\"ticks\":\"\"},\"colorscale\":[[0.0,\"#0d0887\"],[0.1111111111111111,\"#46039f\"],[0.2222222222222222,\"#7201a8\"],[0.3333333333333333,\"#9c179e\"],[0.4444444444444444,\"#bd3786\"],[0.5555555555555556,\"#d8576b\"],[0.6666666666666666,\"#ed7953\"],[0.7777777777777778,\"#fb9f3a\"],[0.8888888888888888,\"#fdca26\"],[1.0,\"#f0f921\"]]}],\"surface\":[{\"type\":\"surface\",\"colorbar\":{\"outlinewidth\":0,\"ticks\":\"\"},\"colorscale\":[[0.0,\"#0d0887\"],[0.1111111111111111,\"#46039f\"],[0.2222222222222222,\"#7201a8\"],[0.3333333333333333,\"#9c179e\"],[0.4444444444444444,\"#bd3786\"],[0.5555555555555556,\"#d8576b\"],[0.6666666666666666,\"#ed7953\"],[0.7777777777777778,\"#fb9f3a\"],[0.8888888888888888,\"#fdca26\"],[1.0,\"#f0f921\"]]}],\"mesh3d\":[{\"type\":\"mesh3d\",\"colorbar\":{\"outlinewidth\":0,\"ticks\":\"\"}}],\"scatter\":[{\"fillpattern\":{\"fillmode\":\"overlay\",\"size\":10,\"solidity\":0.2},\"type\":\"scatter\"}],\"parcoords\":[{\"type\":\"parcoords\",\"line\":{\"colorbar\":{\"outlinewidth\":0,\"ticks\":\"\"}}}],\"scatterpolargl\":[{\"type\":\"scatterpolargl\",\"marker\":{\"colorbar\":{\"outlinewidth\":0,\"ticks\":\"\"}}}],\"bar\":[{\"error_x\":{\"color\":\"#2a3f5f\"},\"error_y\":{\"color\":\"#2a3f5f\"},\"marker\":{\"line\":{\"color\":\"#E5ECF6\",\"width\":0.5},\"pattern\":{\"fillmode\":\"overlay\",\"size\":10,\"solidity\":0.2}},\"type\":\"bar\"}],\"scattergeo\":[{\"type\":\"scattergeo\",\"marker\":{\"colorbar\":{\"outlinewidth\":0,\"ticks\":\"\"}}}],\"scatterpolar\":[{\"type\":\"scatterpolar\",\"marker\":{\"colorbar\":{\"outlinewidth\":0,\"ticks\":\"\"}}}],\"histogram\":[{\"marker\":{\"pattern\":{\"fillmode\":\"overlay\",\"size\":10,\"solidity\":0.2}},\"type\":\"histogram\"}],\"scattergl\":[{\"type\":\"scattergl\",\"marker\":{\"colorbar\":{\"outlinewidth\":0,\"ticks\":\"\"}}}],\"scatter3d\":[{\"type\":\"scatter3d\",\"line\":{\"colorbar\":{\"outlinewidth\":0,\"ticks\":\"\"}},\"marker\":{\"colorbar\":{\"outlinewidth\":0,\"ticks\":\"\"}}}],\"scattermapbox\":[{\"type\":\"scattermapbox\",\"marker\":{\"colorbar\":{\"outlinewidth\":0,\"ticks\":\"\"}}}],\"scatterternary\":[{\"type\":\"scatterternary\",\"marker\":{\"colorbar\":{\"outlinewidth\":0,\"ticks\":\"\"}}}],\"scattercarpet\":[{\"type\":\"scattercarpet\",\"marker\":{\"colorbar\":{\"outlinewidth\":0,\"ticks\":\"\"}}}],\"carpet\":[{\"aaxis\":{\"endlinecolor\":\"#2a3f5f\",\"gridcolor\":\"white\",\"linecolor\":\"white\",\"minorgridcolor\":\"white\",\"startlinecolor\":\"#2a3f5f\"},\"baxis\":{\"endlinecolor\":\"#2a3f5f\",\"gridcolor\":\"white\",\"linecolor\":\"white\",\"minorgridcolor\":\"white\",\"startlinecolor\":\"#2a3f5f\"},\"type\":\"carpet\"}],\"table\":[{\"cells\":{\"fill\":{\"color\":\"#EBF0F8\"},\"line\":{\"color\":\"white\"}},\"header\":{\"fill\":{\"color\":\"#C8D4E3\"},\"line\":{\"color\":\"white\"}},\"type\":\"table\"}],\"barpolar\":[{\"marker\":{\"line\":{\"color\":\"#E5ECF6\",\"width\":0.5},\"pattern\":{\"fillmode\":\"overlay\",\"size\":10,\"solidity\":0.2}},\"type\":\"barpolar\"}],\"pie\":[{\"automargin\":true,\"type\":\"pie\"}]},\"layout\":{\"autotypenumbers\":\"strict\",\"colorway\":[\"#636efa\",\"#EF553B\",\"#00cc96\",\"#ab63fa\",\"#FFA15A\",\"#19d3f3\",\"#FF6692\",\"#B6E880\",\"#FF97FF\",\"#FECB52\"],\"font\":{\"color\":\"#2a3f5f\"},\"hovermode\":\"closest\",\"hoverlabel\":{\"align\":\"left\"},\"paper_bgcolor\":\"white\",\"plot_bgcolor\":\"#E5ECF6\",\"polar\":{\"bgcolor\":\"#E5ECF6\",\"angularaxis\":{\"gridcolor\":\"white\",\"linecolor\":\"white\",\"ticks\":\"\"},\"radialaxis\":{\"gridcolor\":\"white\",\"linecolor\":\"white\",\"ticks\":\"\"}},\"ternary\":{\"bgcolor\":\"#E5ECF6\",\"aaxis\":{\"gridcolor\":\"white\",\"linecolor\":\"white\",\"ticks\":\"\"},\"baxis\":{\"gridcolor\":\"white\",\"linecolor\":\"white\",\"ticks\":\"\"},\"caxis\":{\"gridcolor\":\"white\",\"linecolor\":\"white\",\"ticks\":\"\"}},\"coloraxis\":{\"colorbar\":{\"outlinewidth\":0,\"ticks\":\"\"}},\"colorscale\":{\"sequential\":[[0.0,\"#0d0887\"],[0.1111111111111111,\"#46039f\"],[0.2222222222222222,\"#7201a8\"],[0.3333333333333333,\"#9c179e\"],[0.4444444444444444,\"#bd3786\"],[0.5555555555555556,\"#d8576b\"],[0.6666666666666666,\"#ed7953\"],[0.7777777777777778,\"#fb9f3a\"],[0.8888888888888888,\"#fdca26\"],[1.0,\"#f0f921\"]],\"sequentialminus\":[[0.0,\"#0d0887\"],[0.1111111111111111,\"#46039f\"],[0.2222222222222222,\"#7201a8\"],[0.3333333333333333,\"#9c179e\"],[0.4444444444444444,\"#bd3786\"],[0.5555555555555556,\"#d8576b\"],[0.6666666666666666,\"#ed7953\"],[0.7777777777777778,\"#fb9f3a\"],[0.8888888888888888,\"#fdca26\"],[1.0,\"#f0f921\"]],\"diverging\":[[0,\"#8e0152\"],[0.1,\"#c51b7d\"],[0.2,\"#de77ae\"],[0.3,\"#f1b6da\"],[0.4,\"#fde0ef\"],[0.5,\"#f7f7f7\"],[0.6,\"#e6f5d0\"],[0.7,\"#b8e186\"],[0.8,\"#7fbc41\"],[0.9,\"#4d9221\"],[1,\"#276419\"]]},\"xaxis\":{\"gridcolor\":\"white\",\"linecolor\":\"white\",\"ticks\":\"\",\"title\":{\"standoff\":15},\"zerolinecolor\":\"white\",\"automargin\":true,\"zerolinewidth\":2},\"yaxis\":{\"gridcolor\":\"white\",\"linecolor\":\"white\",\"ticks\":\"\",\"title\":{\"standoff\":15},\"zerolinecolor\":\"white\",\"automargin\":true,\"zerolinewidth\":2},\"scene\":{\"xaxis\":{\"backgroundcolor\":\"#E5ECF6\",\"gridcolor\":\"white\",\"linecolor\":\"white\",\"showbackground\":true,\"ticks\":\"\",\"zerolinecolor\":\"white\",\"gridwidth\":2},\"yaxis\":{\"backgroundcolor\":\"#E5ECF6\",\"gridcolor\":\"white\",\"linecolor\":\"white\",\"showbackground\":true,\"ticks\":\"\",\"zerolinecolor\":\"white\",\"gridwidth\":2},\"zaxis\":{\"backgroundcolor\":\"#E5ECF6\",\"gridcolor\":\"white\",\"linecolor\":\"white\",\"showbackground\":true,\"ticks\":\"\",\"zerolinecolor\":\"white\",\"gridwidth\":2}},\"shapedefaults\":{\"line\":{\"color\":\"#2a3f5f\"}},\"annotationdefaults\":{\"arrowcolor\":\"#2a3f5f\",\"arrowhead\":0,\"arrowwidth\":1},\"geo\":{\"bgcolor\":\"white\",\"landcolor\":\"#E5ECF6\",\"subunitcolor\":\"white\",\"showland\":true,\"showlakes\":true,\"lakecolor\":\"white\"},\"title\":{\"x\":0.05},\"mapbox\":{\"style\":\"light\"}}},\"xaxis\":{\"anchor\":\"y\",\"domain\":[0.0,1.0],\"title\":{\"text\":\"House price (Millions)\"}},\"yaxis\":{\"anchor\":\"x\",\"domain\":[0.0,1.0],\"title\":{\"text\":\"Frequency\"}},\"legend\":{\"tracegroupgap\":0},\"title\":{\"text\":\"\\u003cb\\u003e Figure 2: House Price Distribution in Chennai\"},\"barmode\":\"relative\",\"font\":{\"color\":\"black\"},\"plot_bgcolor\":\"white\",\"paper_bgcolor\":\"white\",\"bargap\":0.2},                        {\"responsive\": true}                    ).then(function(){\n",
              "                            \n",
              "var gd = document.getElementById('8be9eb4c-baf0-499a-89df-be13d7d27970');\n",
              "var x = new MutationObserver(function (mutations, observer) {{\n",
              "        var display = window.getComputedStyle(gd).display;\n",
              "        if (!display || display === 'none') {{\n",
              "            console.log([gd, 'removed!']);\n",
              "            Plotly.purge(gd);\n",
              "            observer.disconnect();\n",
              "        }}\n",
              "}});\n",
              "\n",
              "// Listen for the removal of the full notebook cells\n",
              "var notebookContainer = gd.closest('#notebook-container');\n",
              "if (notebookContainer) {{\n",
              "    x.observe(notebookContainer, {childList: true});\n",
              "}}\n",
              "\n",
              "// Listen for the clearing of the current output cell\n",
              "var outputEl = gd.closest('.output');\n",
              "if (outputEl) {{\n",
              "    x.observe(outputEl, {childList: true});\n",
              "}}\n",
              "\n",
              "                        })                };                            </script>        </div>\n",
              "</body>\n",
              "</html>"
            ]
          },
          "metadata": {}
        }
      ]
    },
    {
      "cell_type": "markdown",
      "source": [
        "#### Figure 1: Analysis\n"
      ],
      "metadata": {
        "id": "R0m56fZU3IVK"
      }
    },
    {
      "cell_type": "markdown",
      "source": [
        "The histogram depicts the distribution of house prices in Chennai. The distribution is right-skewed, meaning higher prices are less frequent, with a peak around 10 million. An interesting observation is that the market has a clear concentration in mid-range prices, while luxury properties, priced above 20 million, are significantly fewer. This pattern is quite common in real estate markets globally, where most homes fall within the affordable to mid-range bracket, and high-end properties are relatively scarce. However, compared to some cities with broader income disparities, the price range here might suggest a more evenly distributed housing market, at least within this segment.  "
      ],
      "metadata": {
        "id": "KB4zZmAVTGCF"
      }
    },
    {
      "cell_type": "markdown",
      "source": [
        "* We now proceed to perform a general description of the avaible potential predictors in the database.\n"
      ],
      "metadata": {
        "id": "0gO13BCAaSg-"
      }
    },
    {
      "cell_type": "code",
      "source": [
        "# Generate a label dictionary for posterior data visualization\n",
        "\n",
        "labels = {\n",
        "    'PRT_ID': 'House ID',\n",
        "    'AREA': 'Location',\n",
        "    'INT_SQFT': 'Area (sqft)',\n",
        "    'DATE_SALE': 'Sale Date',\n",
        "    'DIST_MAINROAD': 'Distance to Main Road',\n",
        "    'N_BEDROOM': 'Number of Bedrooms',\n",
        "    'N_BATHROOM': 'Number of Bathrooms',\n",
        "    'N_ROOM': 'Total Rooms',\n",
        "    'SALE_COND': 'Sale Condition',\n",
        "    'PARK_FACIL': 'Parking Facility',\n",
        "    'DATE_BUILD': 'Construction Date',\n",
        "    'BUILDTYPE': 'Building Type',\n",
        "    'UTILITY_AVAIL': 'Utility Availability',\n",
        "    'STREET': 'Street Condition',\n",
        "    'MZZONE': 'Market Zone',\n",
        "    'QS_ROOMS': 'Room Quality',\n",
        "    'QS_BATHROOM': 'Bathroom Quality',\n",
        "    'QS_BEDROOM': 'Bedroom Quality',\n",
        "    'QS_OVERALL': 'Overall Quality',\n",
        "    'REG_FEE': 'Registration Fee',\n",
        "    'COMMIS': 'Commission Fee',\n",
        "    'SALES_PRICE': 'Sale Price'\n",
        "};"
      ],
      "metadata": {
        "id": "XKFAoZVCunBb"
      },
      "execution_count": 15,
      "outputs": []
    },
    {
      "cell_type": "code",
      "source": [
        "# Stastical Description of Data\n",
        "\n",
        "describe_df = housing.describe()\n",
        "describe_df = describe_df.drop(['DATE_SALE', 'DATE_BUILD'], axis=1)\n",
        "describe_df.rename(columns=labels, inplace=True)\n",
        "\n",
        "fig = px.imshow(\n",
        "    describe_df,\n",
        "    text_auto=\".2f\",\n",
        "    aspect=\"auto\",\n",
        "    color_continuous_scale='Blues'\n",
        ")\n",
        "\n",
        "fig.update_layout(\n",
        "    title=\"Table 1: Descriptive Statistics of Housing Data in Chennai\",\n",
        "    paper_bgcolor='white',\n",
        "    plot_bgcolor='white',\n",
        "    font=dict(size=12, color='black'),\n",
        "    title_font=dict(size=16, color='black'),\n",
        "    width=1000,\n",
        "    height=400,\n",
        "    margin=dict(l=10, r=10, t=60, b=10)\n",
        ")\n",
        "\n",
        "fig.update_traces(\n",
        "    hovertemplate='Value: %{z}',\n",
        "    zmin=describe_df.min().min(),\n",
        "    zmax=describe_df.max().max()\n",
        ")\n",
        "\n",
        "fig.show()"
      ],
      "metadata": {
        "colab": {
          "base_uri": "https://localhost:8080/",
          "height": 437
        },
        "id": "X9PSJmSdWacp",
        "outputId": "e9e0f79d-658d-4d93-89af-289082bd29fe"
      },
      "execution_count": 18,
      "outputs": [
        {
          "output_type": "display_data",
          "data": {
            "text/html": [
              "<html>\n",
              "<head><meta charset=\"utf-8\" /></head>\n",
              "<body>\n",
              "    <div>            <script src=\"https://cdnjs.cloudflare.com/ajax/libs/mathjax/2.7.5/MathJax.js?config=TeX-AMS-MML_SVG\"></script><script type=\"text/javascript\">if (window.MathJax && window.MathJax.Hub && window.MathJax.Hub.Config) {window.MathJax.Hub.Config({SVG: {font: \"STIX-Web\"}});}</script>                <script type=\"text/javascript\">window.PlotlyConfig = {MathJaxConfig: 'local'};</script>\n",
              "        <script charset=\"utf-8\" src=\"https://cdn.plot.ly/plotly-2.35.2.min.js\"></script>                <div id=\"8d126d2d-0cdd-422e-a8be-c119d275332a\" class=\"plotly-graph-div\" style=\"height:400px; width:1000px;\"></div>            <script type=\"text/javascript\">                                    window.PLOTLYENV=window.PLOTLYENV || {};                                    if (document.getElementById(\"8d126d2d-0cdd-422e-a8be-c119d275332a\")) {                    Plotly.newPlot(                        \"8d126d2d-0cdd-422e-a8be-c119d275332a\",                        [{\"coloraxis\":\"coloraxis\",\"name\":\"0\",\"texttemplate\":\"%{z:.2f}\",\"x\":[\"Area (sqft)\",\"Distance to Main Road\",\"Number of Bedrooms\",\"Number of Bathrooms\",\"Total Rooms\",\"Room Quality\",\"Bathroom Quality\",\"Bedroom Quality\",\"Overall Quality\",\"Registration Fee\",\"Commission Fee\",\"Sale Price\"],\"y\":[\"count\",\"mean\",\"min\",\"25%\",\"50%\",\"75%\",\"max\",\"std\"],\"z\":[[5331.0,5323.0,5319.0,5330.0,5331.0,5331.0,5331.0,5331.0,5285.0,5331.0,5331.0,5331.0],[1384.132432939411,99.2767236520759,1.6348937770257568,1.2125703564727954,3.692177827799662,3.5049709247795913,3.5149878071656353,3.4712999437253798,3.494244087038789,376469.47101857065,140087.972050272,10903868.027574563],[500.0,0.0,1.0,1.0,2.0,2.0,2.0,2.0,2.0,71177.0,5378.0,2156875.0],[990.0,48.5,1.0,1.0,3.0,2.7,2.7,2.7,3.11,272191.0,82771.5,8309780.0],[1363.0,98.0,1.0,1.0,4.0,3.5,3.5,3.4,3.5,353577.0,128213.0,10444400.0],[1749.0,149.0,2.0,1.0,4.0,4.3,4.3,4.2,3.87,451230.0,185065.0,13039560.0],[2496.0,200.0,4.0,2.0,6.0,5.0,5.0,5.0,4.95,983922.0,495405.0,23667340.0],[459.9709495073402,58.16291214449488,0.8132232326579466,0.40916452690818705,1.0273797538472365,0.899029941097277,0.9035278443508861,0.881812146973325,0.5282546471204377,140722.21810169425,78873.42685078824,3720762.034869479]],\"type\":\"heatmap\",\"xaxis\":\"x\",\"yaxis\":\"y\",\"hovertemplate\":\"Value: %{z}\",\"zmax\":23667340.0,\"zmin\":0.0}],                        {\"template\":{\"data\":{\"histogram2dcontour\":[{\"type\":\"histogram2dcontour\",\"colorbar\":{\"outlinewidth\":0,\"ticks\":\"\"},\"colorscale\":[[0.0,\"#0d0887\"],[0.1111111111111111,\"#46039f\"],[0.2222222222222222,\"#7201a8\"],[0.3333333333333333,\"#9c179e\"],[0.4444444444444444,\"#bd3786\"],[0.5555555555555556,\"#d8576b\"],[0.6666666666666666,\"#ed7953\"],[0.7777777777777778,\"#fb9f3a\"],[0.8888888888888888,\"#fdca26\"],[1.0,\"#f0f921\"]]}],\"choropleth\":[{\"type\":\"choropleth\",\"colorbar\":{\"outlinewidth\":0,\"ticks\":\"\"}}],\"histogram2d\":[{\"type\":\"histogram2d\",\"colorbar\":{\"outlinewidth\":0,\"ticks\":\"\"},\"colorscale\":[[0.0,\"#0d0887\"],[0.1111111111111111,\"#46039f\"],[0.2222222222222222,\"#7201a8\"],[0.3333333333333333,\"#9c179e\"],[0.4444444444444444,\"#bd3786\"],[0.5555555555555556,\"#d8576b\"],[0.6666666666666666,\"#ed7953\"],[0.7777777777777778,\"#fb9f3a\"],[0.8888888888888888,\"#fdca26\"],[1.0,\"#f0f921\"]]}],\"heatmap\":[{\"type\":\"heatmap\",\"colorbar\":{\"outlinewidth\":0,\"ticks\":\"\"},\"colorscale\":[[0.0,\"#0d0887\"],[0.1111111111111111,\"#46039f\"],[0.2222222222222222,\"#7201a8\"],[0.3333333333333333,\"#9c179e\"],[0.4444444444444444,\"#bd3786\"],[0.5555555555555556,\"#d8576b\"],[0.6666666666666666,\"#ed7953\"],[0.7777777777777778,\"#fb9f3a\"],[0.8888888888888888,\"#fdca26\"],[1.0,\"#f0f921\"]]}],\"heatmapgl\":[{\"type\":\"heatmapgl\",\"colorbar\":{\"outlinewidth\":0,\"ticks\":\"\"},\"colorscale\":[[0.0,\"#0d0887\"],[0.1111111111111111,\"#46039f\"],[0.2222222222222222,\"#7201a8\"],[0.3333333333333333,\"#9c179e\"],[0.4444444444444444,\"#bd3786\"],[0.5555555555555556,\"#d8576b\"],[0.6666666666666666,\"#ed7953\"],[0.7777777777777778,\"#fb9f3a\"],[0.8888888888888888,\"#fdca26\"],[1.0,\"#f0f921\"]]}],\"contourcarpet\":[{\"type\":\"contourcarpet\",\"colorbar\":{\"outlinewidth\":0,\"ticks\":\"\"}}],\"contour\":[{\"type\":\"contour\",\"colorbar\":{\"outlinewidth\":0,\"ticks\":\"\"},\"colorscale\":[[0.0,\"#0d0887\"],[0.1111111111111111,\"#46039f\"],[0.2222222222222222,\"#7201a8\"],[0.3333333333333333,\"#9c179e\"],[0.4444444444444444,\"#bd3786\"],[0.5555555555555556,\"#d8576b\"],[0.6666666666666666,\"#ed7953\"],[0.7777777777777778,\"#fb9f3a\"],[0.8888888888888888,\"#fdca26\"],[1.0,\"#f0f921\"]]}],\"surface\":[{\"type\":\"surface\",\"colorbar\":{\"outlinewidth\":0,\"ticks\":\"\"},\"colorscale\":[[0.0,\"#0d0887\"],[0.1111111111111111,\"#46039f\"],[0.2222222222222222,\"#7201a8\"],[0.3333333333333333,\"#9c179e\"],[0.4444444444444444,\"#bd3786\"],[0.5555555555555556,\"#d8576b\"],[0.6666666666666666,\"#ed7953\"],[0.7777777777777778,\"#fb9f3a\"],[0.8888888888888888,\"#fdca26\"],[1.0,\"#f0f921\"]]}],\"mesh3d\":[{\"type\":\"mesh3d\",\"colorbar\":{\"outlinewidth\":0,\"ticks\":\"\"}}],\"scatter\":[{\"fillpattern\":{\"fillmode\":\"overlay\",\"size\":10,\"solidity\":0.2},\"type\":\"scatter\"}],\"parcoords\":[{\"type\":\"parcoords\",\"line\":{\"colorbar\":{\"outlinewidth\":0,\"ticks\":\"\"}}}],\"scatterpolargl\":[{\"type\":\"scatterpolargl\",\"marker\":{\"colorbar\":{\"outlinewidth\":0,\"ticks\":\"\"}}}],\"bar\":[{\"error_x\":{\"color\":\"#2a3f5f\"},\"error_y\":{\"color\":\"#2a3f5f\"},\"marker\":{\"line\":{\"color\":\"#E5ECF6\",\"width\":0.5},\"pattern\":{\"fillmode\":\"overlay\",\"size\":10,\"solidity\":0.2}},\"type\":\"bar\"}],\"scattergeo\":[{\"type\":\"scattergeo\",\"marker\":{\"colorbar\":{\"outlinewidth\":0,\"ticks\":\"\"}}}],\"scatterpolar\":[{\"type\":\"scatterpolar\",\"marker\":{\"colorbar\":{\"outlinewidth\":0,\"ticks\":\"\"}}}],\"histogram\":[{\"marker\":{\"pattern\":{\"fillmode\":\"overlay\",\"size\":10,\"solidity\":0.2}},\"type\":\"histogram\"}],\"scattergl\":[{\"type\":\"scattergl\",\"marker\":{\"colorbar\":{\"outlinewidth\":0,\"ticks\":\"\"}}}],\"scatter3d\":[{\"type\":\"scatter3d\",\"line\":{\"colorbar\":{\"outlinewidth\":0,\"ticks\":\"\"}},\"marker\":{\"colorbar\":{\"outlinewidth\":0,\"ticks\":\"\"}}}],\"scattermapbox\":[{\"type\":\"scattermapbox\",\"marker\":{\"colorbar\":{\"outlinewidth\":0,\"ticks\":\"\"}}}],\"scatterternary\":[{\"type\":\"scatterternary\",\"marker\":{\"colorbar\":{\"outlinewidth\":0,\"ticks\":\"\"}}}],\"scattercarpet\":[{\"type\":\"scattercarpet\",\"marker\":{\"colorbar\":{\"outlinewidth\":0,\"ticks\":\"\"}}}],\"carpet\":[{\"aaxis\":{\"endlinecolor\":\"#2a3f5f\",\"gridcolor\":\"white\",\"linecolor\":\"white\",\"minorgridcolor\":\"white\",\"startlinecolor\":\"#2a3f5f\"},\"baxis\":{\"endlinecolor\":\"#2a3f5f\",\"gridcolor\":\"white\",\"linecolor\":\"white\",\"minorgridcolor\":\"white\",\"startlinecolor\":\"#2a3f5f\"},\"type\":\"carpet\"}],\"table\":[{\"cells\":{\"fill\":{\"color\":\"#EBF0F8\"},\"line\":{\"color\":\"white\"}},\"header\":{\"fill\":{\"color\":\"#C8D4E3\"},\"line\":{\"color\":\"white\"}},\"type\":\"table\"}],\"barpolar\":[{\"marker\":{\"line\":{\"color\":\"#E5ECF6\",\"width\":0.5},\"pattern\":{\"fillmode\":\"overlay\",\"size\":10,\"solidity\":0.2}},\"type\":\"barpolar\"}],\"pie\":[{\"automargin\":true,\"type\":\"pie\"}]},\"layout\":{\"autotypenumbers\":\"strict\",\"colorway\":[\"#636efa\",\"#EF553B\",\"#00cc96\",\"#ab63fa\",\"#FFA15A\",\"#19d3f3\",\"#FF6692\",\"#B6E880\",\"#FF97FF\",\"#FECB52\"],\"font\":{\"color\":\"#2a3f5f\"},\"hovermode\":\"closest\",\"hoverlabel\":{\"align\":\"left\"},\"paper_bgcolor\":\"white\",\"plot_bgcolor\":\"#E5ECF6\",\"polar\":{\"bgcolor\":\"#E5ECF6\",\"angularaxis\":{\"gridcolor\":\"white\",\"linecolor\":\"white\",\"ticks\":\"\"},\"radialaxis\":{\"gridcolor\":\"white\",\"linecolor\":\"white\",\"ticks\":\"\"}},\"ternary\":{\"bgcolor\":\"#E5ECF6\",\"aaxis\":{\"gridcolor\":\"white\",\"linecolor\":\"white\",\"ticks\":\"\"},\"baxis\":{\"gridcolor\":\"white\",\"linecolor\":\"white\",\"ticks\":\"\"},\"caxis\":{\"gridcolor\":\"white\",\"linecolor\":\"white\",\"ticks\":\"\"}},\"coloraxis\":{\"colorbar\":{\"outlinewidth\":0,\"ticks\":\"\"}},\"colorscale\":{\"sequential\":[[0.0,\"#0d0887\"],[0.1111111111111111,\"#46039f\"],[0.2222222222222222,\"#7201a8\"],[0.3333333333333333,\"#9c179e\"],[0.4444444444444444,\"#bd3786\"],[0.5555555555555556,\"#d8576b\"],[0.6666666666666666,\"#ed7953\"],[0.7777777777777778,\"#fb9f3a\"],[0.8888888888888888,\"#fdca26\"],[1.0,\"#f0f921\"]],\"sequentialminus\":[[0.0,\"#0d0887\"],[0.1111111111111111,\"#46039f\"],[0.2222222222222222,\"#7201a8\"],[0.3333333333333333,\"#9c179e\"],[0.4444444444444444,\"#bd3786\"],[0.5555555555555556,\"#d8576b\"],[0.6666666666666666,\"#ed7953\"],[0.7777777777777778,\"#fb9f3a\"],[0.8888888888888888,\"#fdca26\"],[1.0,\"#f0f921\"]],\"diverging\":[[0,\"#8e0152\"],[0.1,\"#c51b7d\"],[0.2,\"#de77ae\"],[0.3,\"#f1b6da\"],[0.4,\"#fde0ef\"],[0.5,\"#f7f7f7\"],[0.6,\"#e6f5d0\"],[0.7,\"#b8e186\"],[0.8,\"#7fbc41\"],[0.9,\"#4d9221\"],[1,\"#276419\"]]},\"xaxis\":{\"gridcolor\":\"white\",\"linecolor\":\"white\",\"ticks\":\"\",\"title\":{\"standoff\":15},\"zerolinecolor\":\"white\",\"automargin\":true,\"zerolinewidth\":2},\"yaxis\":{\"gridcolor\":\"white\",\"linecolor\":\"white\",\"ticks\":\"\",\"title\":{\"standoff\":15},\"zerolinecolor\":\"white\",\"automargin\":true,\"zerolinewidth\":2},\"scene\":{\"xaxis\":{\"backgroundcolor\":\"#E5ECF6\",\"gridcolor\":\"white\",\"linecolor\":\"white\",\"showbackground\":true,\"ticks\":\"\",\"zerolinecolor\":\"white\",\"gridwidth\":2},\"yaxis\":{\"backgroundcolor\":\"#E5ECF6\",\"gridcolor\":\"white\",\"linecolor\":\"white\",\"showbackground\":true,\"ticks\":\"\",\"zerolinecolor\":\"white\",\"gridwidth\":2},\"zaxis\":{\"backgroundcolor\":\"#E5ECF6\",\"gridcolor\":\"white\",\"linecolor\":\"white\",\"showbackground\":true,\"ticks\":\"\",\"zerolinecolor\":\"white\",\"gridwidth\":2}},\"shapedefaults\":{\"line\":{\"color\":\"#2a3f5f\"}},\"annotationdefaults\":{\"arrowcolor\":\"#2a3f5f\",\"arrowhead\":0,\"arrowwidth\":1},\"geo\":{\"bgcolor\":\"white\",\"landcolor\":\"#E5ECF6\",\"subunitcolor\":\"white\",\"showland\":true,\"showlakes\":true,\"lakecolor\":\"white\"},\"title\":{\"x\":0.05},\"mapbox\":{\"style\":\"light\"}}},\"xaxis\":{\"anchor\":\"y\",\"domain\":[0.0,1.0]},\"yaxis\":{\"anchor\":\"x\",\"domain\":[0.0,1.0],\"autorange\":\"reversed\"},\"coloraxis\":{\"colorscale\":[[0.0,\"rgb(247,251,255)\"],[0.125,\"rgb(222,235,247)\"],[0.25,\"rgb(198,219,239)\"],[0.375,\"rgb(158,202,225)\"],[0.5,\"rgb(107,174,214)\"],[0.625,\"rgb(66,146,198)\"],[0.75,\"rgb(33,113,181)\"],[0.875,\"rgb(8,81,156)\"],[1.0,\"rgb(8,48,107)\"]]},\"margin\":{\"t\":60,\"l\":10,\"r\":10,\"b\":10},\"font\":{\"size\":12,\"color\":\"black\"},\"title\":{\"text\":\"Table 1: Descriptive Statistics of Housing Data in Chennai\",\"font\":{\"size\":16,\"color\":\"black\"}},\"paper_bgcolor\":\"white\",\"plot_bgcolor\":\"white\",\"width\":1000,\"height\":400},                        {\"responsive\": true}                    ).then(function(){\n",
              "                            \n",
              "var gd = document.getElementById('8d126d2d-0cdd-422e-a8be-c119d275332a');\n",
              "var x = new MutationObserver(function (mutations, observer) {{\n",
              "        var display = window.getComputedStyle(gd).display;\n",
              "        if (!display || display === 'none') {{\n",
              "            console.log([gd, 'removed!']);\n",
              "            Plotly.purge(gd);\n",
              "            observer.disconnect();\n",
              "        }}\n",
              "}});\n",
              "\n",
              "// Listen for the removal of the full notebook cells\n",
              "var notebookContainer = gd.closest('#notebook-container');\n",
              "if (notebookContainer) {{\n",
              "    x.observe(notebookContainer, {childList: true});\n",
              "}}\n",
              "\n",
              "// Listen for the clearing of the current output cell\n",
              "var outputEl = gd.closest('.output');\n",
              "if (outputEl) {{\n",
              "    x.observe(outputEl, {childList: true});\n",
              "}}\n",
              "\n",
              "                        })                };                            </script>        </div>\n",
              "</body>\n",
              "</html>"
            ]
          },
          "metadata": {}
        }
      ]
    },
    {
      "cell_type": "markdown",
      "source": [
        "#### Table 1: Analysis"
      ],
      "metadata": {
        "id": "jt2ibAh33Ycl"
      }
    },
    {
      "cell_type": "markdown",
      "source": [
        "The summary statistics suggest that, in Chennai’s housing market, property prices vary significantly more than size or quality, implying that factors like location or demand are likely driving price disparities. Most homes are close to main roads, highlighting the importance of accessibility in price determination. Interestingly, while house sizes and quality scores are relatively consistent, price variation is substantial, indicating that higher prices don’t necessarily reflect better quality. Transaction costs, such as registration and commission fees, also scale with price, adding a proportional burden to higher-priced homes, which could further widen affordability gaps.\n",
        "\n",
        "\n"
      ],
      "metadata": {
        "id": "Ix4L1B7sWbQ6"
      }
    },
    {
      "cell_type": "markdown",
      "metadata": {
        "id": "CQQswJ_vqewa"
      },
      "source": [
        "## b)\n",
        "\n",
        "* Create a Pandas series your the outcome variable and a Pandas data frame with those variables that you consider as relevant predictors (probably, most of them). Additionally, you can think about transforming some of them (eg., join categories with few observations, generating dummies, etc.).\n",
        "\n",
        "* Split your sample into a training set and a testing set.\n"
      ]
    },
    {
      "cell_type": "code",
      "execution_count": null,
      "metadata": {
        "id": "MtnG9awxsPFK"
      },
      "outputs": [],
      "source": [
        "# Your code here"
      ]
    },
    {
      "cell_type": "markdown",
      "metadata": {
        "id": "ygnu8OWGu8Z7"
      },
      "source": [
        "## c)\n",
        "\n",
        "* Estimate a linear regression model by OLS using your preferred specification or specifications for prediction. You can use pre-processing steps if necessary (for polynomials, interactions, dealing with NAs, etc.). Comment on the results.\n",
        "\n",
        "* Obtain the RMSE and the MAE as metrics of predictive performance of the model(s).\n",
        "\n"
      ]
    },
    {
      "cell_type": "code",
      "execution_count": null,
      "metadata": {
        "id": "AFNLYgKXxIhI"
      },
      "outputs": [],
      "source": [
        "# Your code here"
      ]
    },
    {
      "cell_type": "markdown",
      "metadata": {
        "id": "zv5ygljNxSCY"
      },
      "source": [
        "\n",
        "> Your comments here\n"
      ]
    },
    {
      "cell_type": "markdown",
      "metadata": {
        "id": "P_yFFRDUxMZk"
      },
      "source": [
        "## d)\n",
        "\n",
        "* Estimate a LASSO model using the pre-processing steps that you consider necessary. Note that you must choose the optimal value of the penalization hyperparameter by cross-validation before estimating the best LASSO model (which use that value)\n",
        "\n",
        "* Comment on the results.\n",
        "\n",
        "* Obtain the RMSE and the MAE as metrics of predictive performance of the model."
      ]
    },
    {
      "cell_type": "code",
      "execution_count": null,
      "metadata": {
        "id": "-OkF6a3_0E7m"
      },
      "outputs": [],
      "source": [
        "# Your code here"
      ]
    },
    {
      "cell_type": "markdown",
      "metadata": {
        "id": "YikTmDqz0E7r"
      },
      "source": [
        "\n",
        "> Your comments here\n"
      ]
    },
    {
      "cell_type": "markdown",
      "metadata": {
        "id": "lH9-Fyly0RWD"
      },
      "source": [
        "## e)\n",
        "\n",
        "* Estimate a regression tree model using the pre-processing steps that you consider necessary. Note that you must choose the optimal value of the hyperparameters by cross-validation before estimating the best tree model. You can focus on tuning the cost-complexity parameter; you can fix the `min_samples_leaf` to a value of your choice (you can try a few of them before choosing one).\n",
        "\n",
        "* Show a figure with the resulting tree. Comment on the results.\n",
        "\n",
        "* Show in a table the variable importance according to this model (you can also provide a figure if you want). Comment on the results.\n",
        "\n",
        "* Obtain the RMSE and the MAE as metrics of predictive performance of the model."
      ]
    },
    {
      "cell_type": "code",
      "execution_count": null,
      "metadata": {
        "id": "vOt_n0iS0RWE"
      },
      "outputs": [],
      "source": [
        "# Your code here"
      ]
    },
    {
      "cell_type": "markdown",
      "metadata": {
        "id": "wFJ8O1Zi0RWI"
      },
      "source": [
        "\n",
        "> Your comments here\n"
      ]
    },
    {
      "cell_type": "markdown",
      "metadata": {
        "id": "zIj5HjBX2oDF"
      },
      "source": [
        "## f)\n",
        "\n",
        "* Estimate a random forest model using the pre-processing steps that you consider necessary. Note that you must choose the optimal value of the hyperparameters by cross-validation before estimating the best model. You can focus on tuning either `min_samples_leaf` or `max_features`, but you should try a few of the other one.\n",
        "\n",
        "* Show in a table the variable importance according to this model (you can also provide a figure if you want). Comment on the results.\n",
        "\n",
        "* Obtain the RMSE and the MAE as metrics of predictive performance of the model."
      ]
    },
    {
      "cell_type": "code",
      "execution_count": null,
      "metadata": {
        "id": "wRROLaMg2oDI"
      },
      "outputs": [],
      "source": [
        "# Your code here"
      ]
    },
    {
      "cell_type": "markdown",
      "metadata": {
        "id": "veJ6pfD72oDL"
      },
      "source": [
        "\n",
        "> Your comments here\n"
      ]
    },
    {
      "cell_type": "markdown",
      "metadata": {
        "id": "asl1OAFb3VDt"
      },
      "source": [
        "## g)\n",
        "\n",
        "Finally, discuss which prediction model is the best one. Also, briefly comment on any other key insights you can learn from one or more of these models.\n"
      ]
    },
    {
      "cell_type": "markdown",
      "metadata": {
        "id": "hygtE6IK3vg5"
      },
      "source": [
        "\n",
        "> Your comments here\n"
      ]
    },
    {
      "cell_type": "markdown",
      "metadata": {
        "id": "_EMPyvjd3xVw"
      },
      "source": [
        "---"
      ]
    },
    {
      "cell_type": "markdown",
      "metadata": {
        "id": "aalgEbkr5-u4"
      },
      "source": [
        "# Problem 2: Financial Investment"
      ]
    },
    {
      "cell_type": "markdown",
      "metadata": {
        "id": "ADo_xUO191pV"
      },
      "source": [
        "* This problem is **optional**. Completing it will give you 1 extra point."
      ]
    },
    {
      "cell_type": "markdown",
      "metadata": {
        "id": "k3KGtsX_AyGR"
      },
      "source": [
        "* We are interested in estimating the effect of participation in 401(k) pension plans on employees’ net financial assets. The dataset [pension.csv](https://raw.githubusercontent.com/albarran/00datos/refs/heads/main/pension.csv) contains information about net financial assets (*net_tfa*) and participation in a 401(k) plan (*p401*), along with several additional individual characteristics: age, income, education, family size, marital status, having two earners in the household, having a defined benefit (DB) pension (a type of retirement plan where an employer guarantees a specified retirement amount), participation in an IRA (Individual Retirement Account, a type of retirement savings account with tax advantages), and homeownership. You can find more information about the variables [here](https://search.r-project.org/CRAN/refmans/hdm/html/pension.html).\n",
        "\n",
        "* Since saving preferences (which are unobservable) can directly affect net asset holdings and the decision to participate, and may also be correlated with observable characteristics (e.g., income), participation in 401(k) plans can be endogenous. However, it is possible to exploit randomness (conditional on confounding variables) in eligibility for 401(k) plans (*e401*). An instrumental variable (IV) approach could be used to estimate the causal effect, but in this case, we will focus on estimating the intention-to-treat effect.\n"
      ]
    },
    {
      "cell_type": "markdown",
      "metadata": {
        "id": "nALCc4k-_SIG"
      },
      "source": [
        "* Load the data and check the variables types."
      ]
    },
    {
      "cell_type": "code",
      "execution_count": null,
      "metadata": {
        "id": "abhQ4R9C-fWZ"
      },
      "outputs": [],
      "source": [
        "# Your code here"
      ]
    },
    {
      "cell_type": "markdown",
      "metadata": {
        "id": "UP_e2swp-m_U"
      },
      "source": [
        "## a)\n",
        "\n",
        "* Estimate using OLS a model to examine the effect of 401(k) eligibility on asset holdings, controlling for relevant confounding factors.\n",
        "\n",
        "* Carefully consider how each variable should enter the model (e.g., whether education should be treated as a continuous or categorical variable). Additionally, consider whether polynomial terms or interaction effects might be useful. There is no universally correct choice, but your decisions should be justified and applied consistently throughout the analysis.\n",
        "\n",
        "* Show the estimated intention-to-treat effect and its standard error and other relevant information to comment on the evidence on the results."
      ]
    },
    {
      "cell_type": "code",
      "execution_count": null,
      "metadata": {
        "id": "48QHDskV-m_Z"
      },
      "outputs": [],
      "source": [
        "# Your code here"
      ]
    },
    {
      "cell_type": "markdown",
      "metadata": {
        "id": "51_0gMCl-m_b"
      },
      "source": [
        "\n",
        "> Your comments here\n"
      ]
    },
    {
      "cell_type": "markdown",
      "metadata": {
        "id": "q8BlMUvxAnkC"
      },
      "source": [
        "## b)\n",
        "\n",
        "* Repeat the part a) but estimating now the model using LASSO."
      ]
    },
    {
      "cell_type": "code",
      "execution_count": null,
      "metadata": {
        "id": "hwQD4Th7AnkG"
      },
      "outputs": [],
      "source": [
        "# Your code here"
      ]
    },
    {
      "cell_type": "markdown",
      "metadata": {
        "id": "r6XsWy4cAnkJ"
      },
      "source": [
        "\n",
        "> Your comments here\n"
      ]
    },
    {
      "cell_type": "markdown",
      "metadata": {
        "id": "QJYEUIWfU1t0"
      },
      "source": [
        "## c)\n",
        "\n",
        "* Repeat the part a) again but using Double-selection LASSO.\n",
        "\n",
        "* Comment on the differences with the previous results and discuss your overall conclusion about the evidence."
      ]
    },
    {
      "cell_type": "code",
      "execution_count": null,
      "metadata": {
        "id": "XBmN-eTXA1TR"
      },
      "outputs": [],
      "source": [
        "# Your code here"
      ]
    },
    {
      "cell_type": "markdown",
      "metadata": {
        "id": "TylniXT4A1TU"
      },
      "source": [
        "\n",
        "> Your comments here\n"
      ]
    },
    {
      "cell_type": "markdown",
      "metadata": {
        "id": "p7npy_IzA1TO"
      },
      "source": [
        "## d)\n",
        "\n",
        "* Finally repeat the estimation of the ITT using Double ML with Random Forest.\n",
        "\n",
        "* Show the results and discuss"
      ]
    },
    {
      "cell_type": "code",
      "execution_count": null,
      "metadata": {
        "id": "kwvFy_PTg5iW"
      },
      "outputs": [],
      "source": [
        "# Your code here"
      ]
    },
    {
      "cell_type": "markdown",
      "metadata": {
        "id": "HCRSNukRV-8B"
      },
      "source": [
        "\n",
        "> Your comments here"
      ]
    }
  ],
  "metadata": {
    "colab": {
      "provenance": [],
      "include_colab_link": true
    },
    "kernelspec": {
      "display_name": "Python 3",
      "name": "python3"
    }
  },
  "nbformat": 4,
  "nbformat_minor": 0
}